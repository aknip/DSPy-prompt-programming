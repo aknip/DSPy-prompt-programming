{
 "cells": [
  {
   "cell_type": "markdown",
   "id": "94108635",
   "metadata": {},
   "source": [
    "# Writing Blog Posts with DSPy Programs\n",
    "\n",
    "\n",
    "Sources:\n",
    "- Video: https://www.youtube.com/watch?v=ickqCzFxWj0\n",
    "- Repo: https://github.com/weaviate/recipes/blob/main/integrations/dspy/2.Writing-Blog-Posts-with-DSPy.ipynb \n",
    "\n",
    "\n",
    "In this tutorial, we will generate blog posts from questions.\n",
    "\n",
    "Using the Weaviate blog posts as background information, we will generate 8 paragraph blog posts from questions such as:\n",
    "\n",
    "\"What is ref2vec and how can I use it to build e-commerce applications with Weaviate?\"\n",
    "\n",
    "To run this:\n",
    "\n",
    "1. Excecute the cells under \"1. Setup\"\n",
    "2. Start Docker Compose file (see end of 1. Setup-section)\n",
    "3. (If not already done): Excecute cells under \"2. Import blog into Weaviate\"\n",
    "4. Start writing by executing cells under \"Excecute cells under 3. Writing Blog Posts with DSPy Programs\" \n"
   ]
  },
  {
   "cell_type": "markdown",
   "id": "f54545b0",
   "metadata": {},
   "source": [
    "# 1. Setup"
   ]
  },
  {
   "cell_type": "code",
   "execution_count": null,
   "id": "e0cbc673",
   "metadata": {},
   "outputs": [],
   "source": [
    "!pip install dspy-ai weaviate-client==4.5.4"
   ]
  },
  {
   "cell_type": "code",
   "execution_count": 2,
   "id": "51d5f090",
   "metadata": {},
   "outputs": [],
   "source": [
    "import os\n",
    "import json\n",
    "from getpass import getpass\n",
    "import psutil"
   ]
  },
  {
   "cell_type": "code",
   "execution_count": null,
   "id": "3b8101d6",
   "metadata": {},
   "outputs": [],
   "source": [
    "IN_NOTEBOOK = any([\"jupyter-notebook\" in i for i in psutil.Process().parent().cmdline()])\n",
    "if IN_NOTEBOOK:\n",
    "  CREDS = json.loads(getpass(\"Secrets (JSON string): \"))\n",
    "  os.environ['CREDS'] = json.dumps(CREDS)\n",
    "  CREDS = json.loads(os.getenv('CREDS'))"
   ]
  },
  {
   "cell_type": "code",
   "execution_count": 4,
   "id": "7669e40c",
   "metadata": {},
   "outputs": [],
   "source": [
    "os.environ[\"OPENAI_API_KEY\"] = CREDS['OpenAI']['v2']['credential'] "
   ]
  },
  {
   "cell_type": "code",
   "execution_count": 5,
   "id": "066c64bd",
   "metadata": {},
   "outputs": [],
   "source": [
    "# create .env file with OpenAI key, needed for Docker\n",
    "f= open('.env','w+')\n",
    "f.write('OPENAI_APIKEY=' + CREDS['OpenAI']['v2']['credential'])\n",
    "f.close()"
   ]
  },
  {
   "cell_type": "code",
   "execution_count": 6,
   "id": "ad66586f",
   "metadata": {},
   "outputs": [
    {
     "name": "stdout",
     "output_type": "stream",
     "text": [
      "Setup ready. Start docker.\n"
     ]
    }
   ],
   "source": [
    "if not os.path.isdir('./blog'):\n",
    "    print('\"blog\" folder is missing. See documentation above!')\n",
    "else:\n",
    "    print('Setup ready. Start docker.')"
   ]
  },
  {
   "cell_type": "markdown",
   "id": "ec1080b4",
   "metadata": {},
   "source": [
    "Now run in terminal `docker compose up -d`"
   ]
  },
  {
   "cell_type": "markdown",
   "id": "c23f365c",
   "metadata": {},
   "source": [
    "# 2. Import blog into Weaviate"
   ]
  },
  {
   "cell_type": "markdown",
   "id": "28af9f4c",
   "metadata": {},
   "source": [
    "### Weaviate Import\n",
    "\n",
    "\n",
    "Source: https://github.com/weaviate/recipes/tree/main/integrations/dspy\n",
    "\n",
    "This section is used to populate the `WeaviateBlogChunk` class.\n",
    "\n",
    "1. Run `docker-compose up -d` with the docker script in the file to start Weaviate locally on localhost:8080\n",
    "\n",
    "2. Make sure the `/blog` folder is in this directory (these are parsed from github.com/weaviate/weaviate-io -- feel free to drag and drop that folder in here to update the content).\n",
    "\n",
    "3. Run this notebook and the 1182 blog chunks will be loaded into Weaviate (takes approx. 6-7 minutes)"
   ]
  },
  {
   "cell_type": "code",
   "execution_count": null,
   "id": "cf69ba40",
   "metadata": {},
   "outputs": [],
   "source": [
    "# Import Weaviate and Connect to Client\n",
    "import weaviate\n",
    "client = weaviate.Client(\"http://localhost:8080\")"
   ]
  },
  {
   "cell_type": "code",
   "execution_count": null,
   "id": "6c3ecfe2",
   "metadata": {},
   "outputs": [],
   "source": [
    "# Create Schema\n",
    "schema = {\n",
    "   \"classes\": [\n",
    "       {\n",
    "           \"class\": \"WeaviateBlogChunk\",\n",
    "           \"description\": \"A snippet from a Weaviate blogpost.\",\n",
    "           \"moduleConfig\": {\n",
    "               \"text2vec-openai\": {\n",
    "                    \"skip\": False,\n",
    "                    \"vectorizeClassName\": False,\n",
    "                    \"vectorizePropertyName\": False\n",
    "                },\n",
    "                \"generative-openai\": {\n",
    "                    \"model\": \"gpt-3.5-turbo\"\n",
    "                }\n",
    "           },\n",
    "           \"vectorIndexType\": \"hnsw\",\n",
    "           \"vectorizer\": \"text2vec-openai\",\n",
    "           \"properties\": [\n",
    "               {\n",
    "                   \"name\": \"content\",\n",
    "                   \"dataType\": [\"text\"],\n",
    "                   \"description\": \"The text content of the podcast clip\",\n",
    "                   \"moduleConfig\": {\n",
    "                    \"text2vec-transformers\": {\n",
    "                        \"skip\": False,\n",
    "                        \"vectorizePropertyName\": False,\n",
    "                        \"vectorizeClassName\": False\n",
    "                    }\n",
    "                   }\n",
    "               },\n",
    "               {\n",
    "                \"name\": \"author\",\n",
    "                \"dataType\": [\"text\"],\n",
    "                \"description\": \"The author of the blog post.\",\n",
    "                \"moduleConfig\": {\n",
    "                    \"text2vec-openai\": {\n",
    "                        \"skip\": True,\n",
    "                        \"vectorizePropertyName\": False,\n",
    "                        \"vectorizeClassName\": False\n",
    "                    }\n",
    "                }\n",
    "               }\n",
    "           ]\n",
    "       }      \n",
    "   ]\n",
    "}\n",
    "    \n",
    "client.schema.create(schema)"
   ]
  },
  {
   "cell_type": "code",
   "execution_count": null,
   "id": "9a6788d9",
   "metadata": {},
   "outputs": [],
   "source": [
    "import os\n",
    "import re\n",
    "\n",
    "def chunk_list(lst, chunk_size):\n",
    "    \"\"\"Break a list into chunks of the specified size.\"\"\"\n",
    "    return [lst[i:i + chunk_size] for i in range(0, len(lst), chunk_size)]\n",
    "\n",
    "def split_into_sentences(text):\n",
    "    \"\"\"Split text into sentences using regular expressions.\"\"\"\n",
    "    sentences = re.split(r'(?<!\\w\\.\\w.)(?<![A-Z][a-z]\\.)(?<=\\.|\\?)\\s', text)\n",
    "    return [sentence.strip() for sentence in sentences if sentence.strip()]\n",
    "\n",
    "def read_and_chunk_index_files(main_folder_path):\n",
    "    \"\"\"Read index.md files from subfolders, split into sentences, and chunk every 5 sentences.\"\"\"\n",
    "    blog_chunks = []\n",
    "    for folder_name in os.listdir(main_folder_path):\n",
    "        subfolder_path = os.path.join(main_folder_path, folder_name)\n",
    "        if os.path.isdir(subfolder_path):\n",
    "            index_file_path = os.path.join(subfolder_path, 'index.mdx')\n",
    "            if os.path.isfile(index_file_path):\n",
    "                with open(index_file_path, 'r', encoding='utf-8') as file:\n",
    "                    content = file.read()\n",
    "                    sentences = split_into_sentences(content)\n",
    "                    sentence_chunks = chunk_list(sentences, 5)\n",
    "                    sentence_chunks = [' '.join(chunk) for chunk in sentence_chunks]\n",
    "                    blog_chunks.extend(sentence_chunks)\n",
    "    return blog_chunks\n",
    "\n",
    "# Example usage\n",
    "main_folder_path = './blog'\n",
    "blog_chunks = read_and_chunk_index_files(main_folder_path)\n"
   ]
  },
  {
   "cell_type": "code",
   "execution_count": null,
   "id": "ed58c948",
   "metadata": {},
   "outputs": [],
   "source": [
    "len(blog_chunks)"
   ]
  },
  {
   "cell_type": "code",
   "execution_count": null,
   "id": "1ea97830",
   "metadata": {},
   "outputs": [],
   "source": [
    "blog_chunks[0]"
   ]
  },
  {
   "cell_type": "code",
   "execution_count": null,
   "id": "115c2980",
   "metadata": {},
   "outputs": [],
   "source": [
    "client.batch.configure(\n",
    "  # `batch_size` takes an `int` value to enable auto-batching\n",
    "  # (`None` is used for manual batching)\n",
    "  batch_size=100,\n",
    "  # dynamically update the `batch_size` based on import speed\n",
    "  dynamic=False,\n",
    "  # `timeout_retries` takes an `int` value to retry on time outs\n",
    "  timeout_retries=3,\n",
    "  # checks for batch-item creation errors\n",
    "  # this is the default in weaviate-client >= 3.6.0\n",
    "  callback=weaviate.util.check_batch_result,\n",
    ")"
   ]
  },
  {
   "cell_type": "code",
   "execution_count": null,
   "id": "c78925c0",
   "metadata": {},
   "outputs": [],
   "source": [
    "from weaviate.util import get_valid_uuid\n",
    "from uuid import uuid4\n",
    "import time\n",
    "start = time.time()\n",
    "for idx, blog_chunk in enumerate(blog_chunks):\n",
    "    data_properties = {\n",
    "        \"content\": blog_chunk\n",
    "    }\n",
    "    id = get_valid_uuid(uuid4())\n",
    "    with client.batch as batch:\n",
    "        batch.add_data_object(\n",
    "            data_properties,\n",
    "            \"WeaviateBlogChunk\"\n",
    "        )\n",
    "    '''\n",
    "    client.data_object.create(\n",
    "        data_object = data_properties,\n",
    "        class_name = \"WeaviateBlogChunk\",\n",
    "        uuid=id\n",
    "    )\n",
    "    '''\n",
    "\n",
    "print(f\"Uploaded {idx} documents in {time.time() - start} seconds.\")"
   ]
  },
  {
   "cell_type": "code",
   "execution_count": null,
   "id": "002f4125",
   "metadata": {},
   "outputs": [],
   "source": []
  },
  {
   "cell_type": "code",
   "execution_count": null,
   "id": "bc618317",
   "metadata": {},
   "outputs": [],
   "source": []
  },
  {
   "cell_type": "code",
   "execution_count": null,
   "id": "8919037f",
   "metadata": {},
   "outputs": [],
   "source": []
  },
  {
   "cell_type": "markdown",
   "id": "aa7cfba6",
   "metadata": {},
   "source": [
    "# 3. Writing Blog Posts with DSPy Programs\n",
    "\n",
    "### In this tutorial, we will generate blog posts from questions!\n",
    "\n",
    "Using the Weaviate blog posts as background information, we will generate 8 paragraph blog posts from questions such as:\n",
    "\n",
    "`What is ref2vec and how can I use it to build e-commerce applications with Weaviate?`\n",
    "\n",
    "### We will do this with a 4-layer DSPy program\n",
    "\n",
    "```python\n",
    "class BlogPostWriter(dspy.Module):\n",
    "    def __init__(self):\n",
    "        self.question_to_blog_outline = dspy.ChainOfThought(Question2BlogOutline)\n",
    "        self.topic_to_paragraph = dspy.ChainOfThought(Topic2Paragraph)\n",
    "        self.proof_reader = dspy.ChainOfThought(ProofReader)\n",
    "        self.title_generator = dspy.ChainOfThought(TitleGenerator)\n",
    "    \n",
    "    def forward(self, question):\n",
    "        contexts = dspy.Retrieve(k=5)(question).passages\n",
    "        contexts = \"\".join(contexts)\n",
    "        raw_blog_outline = self.question_to_blog_outline(question=question, context=contexts).blog_outline\n",
    "        blog_outline = raw_blog_outline.split(\",\") #Add type hint in expanded Signature\n",
    "        blog = \"\"\n",
    "        for topic in blog_outline:\n",
    "            topic_contexts = dspy.Retrieve(k=5)(topic).passages\n",
    "            topic_contexts = \"\".join(topic_contexts)\n",
    "            blog += self.topic_to_paragraph(topic=topic, contexts=topic_contexts).paragraph\n",
    "            blog += \"\\n \\n\"\n",
    "        blog = self.proof_reader(blog_post=blog).proofread_blog_post\n",
    "        title = self.title_generator(blog_outline=raw_blog_outline).title\n",
    "        final_blog = f\"{title} \\n \\n {blog}\"\n",
    "        return dspy.Prediction(blog=final_blog)\n",
    "```"
   ]
  },
  {
   "cell_type": "markdown",
   "id": "dd3b9cad",
   "metadata": {},
   "source": [
    "## Installation"
   ]
  },
  {
   "cell_type": "code",
   "execution_count": 7,
   "id": "14c1f1d7",
   "metadata": {},
   "outputs": [
    {
     "name": "stderr",
     "output_type": "stream",
     "text": [
      "/Library/Frameworks/Python.framework/Versions/3.11/lib/python3.11/site-packages/weaviate/warnings.py:158: DeprecationWarning: Dep016: You are using the Weaviate v3 client, which is deprecated.\n",
      "            Consider upgrading to the new and improved v4 client instead!\n",
      "            See here for usage: https://weaviate.io/developers/weaviate/client-libraries/python\n",
      "            \n",
      "  warnings.warn(\n"
     ]
    }
   ],
   "source": [
    "# Setup DSPy\n",
    "# Connect to Weaviate Retriever and configure LLM\n",
    "import dspy\n",
    "from dspy.retrieve.weaviate_rm import WeaviateRM\n",
    "import weaviate\n",
    "\n",
    "gpt4 = dspy.OpenAI(model=\"gpt-4\", max_tokens=2000, model_type=\"chat\")\n",
    "\n",
    "weaviate_client = weaviate.Client(\"http://localhost:8080\")\n",
    "retriever_model = WeaviateRM(\"WeaviateBlogChunk\", weaviate_client=weaviate_client)\n",
    "dspy.settings.configure(lm=gpt4, rm=retriever_model)"
   ]
  },
  {
   "cell_type": "markdown",
   "id": "ff7b9faf",
   "metadata": {},
   "source": [
    "### Steps to Generate a Blog Post\n",
    "#### 1. Outline\n",
    "#### 2. Topic to paragraph\n",
    "#### 3. Review\n",
    "#### 4. Title"
   ]
  },
  {
   "cell_type": "markdown",
   "id": "36d4fbeb",
   "metadata": {},
   "source": [
    "## Question2BlogOutline Signature and Demo"
   ]
  },
  {
   "cell_type": "code",
   "execution_count": 8,
   "id": "4114cd17",
   "metadata": {},
   "outputs": [],
   "source": [
    "class Question2BlogOutline(dspy.Signature):\n",
    "    \"\"\"\n",
    "    Your task is to write a blog post that will help answer the given question. \n",
    "    Please use the contexts to evaluate the structure of the blog post.\n",
    "    \"\"\"\n",
    "    \n",
    "    question = dspy.InputField()\n",
    "    contexts = dspy.InputField()\n",
    "    blog_outline = dspy.OutputField(desc=\"A comma separated list of topics.\")"
   ]
  },
  {
   "cell_type": "code",
   "execution_count": 9,
   "id": "31cfe959",
   "metadata": {},
   "outputs": [
    {
     "data": {
      "text/plain": [
       "\"Introduction to Hybrid Search, How Hybrid Search Works in Weaviate, Fusion Algorithms in Weaviate's Hybrid Search, Example of a Hybrid Search, Combining Results in Hybrid Search.\""
      ]
     },
     "execution_count": 9,
     "metadata": {},
     "output_type": "execute_result"
    }
   ],
   "source": [
    "toy_question = \"How does Hybrid Search in Weaviate work?\"\n",
    "toy_context = dspy.Retrieve(k=5)(toy_question).passages\n",
    "toy_context = \"\".join(toy_context)\n",
    "dspy.ChainOfThought(Question2BlogOutline)(question=toy_question, contexts=toy_context).blog_outline"
   ]
  },
  {
   "cell_type": "code",
   "execution_count": 10,
   "id": "e347b469",
   "metadata": {},
   "outputs": [
    {
     "name": "stdout",
     "output_type": "stream",
     "text": [
      "\n",
      "\n",
      "\n",
      "\n",
      "Your task is to write a blog post that will help answer the given question. \n",
      "    Please use the contexts to evaluate the structure of the blog post.\n",
      "\n",
      "---\n",
      "\n",
      "Follow the following format.\n",
      "\n",
      "Question: ${question}\n",
      "\n",
      "Contexts: ${contexts}\n",
      "\n",
      "Reasoning: Let's think step by step in order to ${produce the blog_outline}. We ...\n",
      "\n",
      "Blog Outline: A comma separated list of topics.\n",
      "\n",
      "---\n",
      "\n",
      "Question: How does Hybrid Search in Weaviate work?\n",
      "\n",
      "Contexts: ### Further resources - [How-to: Hybrid search](/developers/weaviate/search/hybrid) - [API References: Hybrid search](/developers/weaviate/api/graphql/search-operators#hybrid)But do you know **how** hybrid search combines these results? And that Weaviate recently added a new algorithm for how this is done? In this post, we’ll dive into exactly the world of hybrid search to discuss how it works, how results are produced, the algorithms used, and more. So let’s get into it! :::info - Vector search and keyword search are also known as dense vector search and sparse vector search respectively. - Keyword search is also called a BM25 search in Weaviate, as it is based on the [BM25F](https://en.wikipedia.org/wiki/Okapi_BM25) scoring algorithm.--- title: Hybrid Search Explained slug: hybrid-search-explained authors: [erika] date: 2023-01-03 tags: ['concepts', 'search'] image: ./img/hero.png description: \"Learn about the new hybrid search feature that enables you to combine dense and sparse vectors to deliver the best of both search methods.\" --- ![Hybrid search](./img/hero.png) <!-- truncate --> Hybrid search is a technique that **combines** multiple search algorithms to improve the accuracy and relevance of search results. It uses the best features of both keyword-based search algorithms with vector search techniques. By leveraging the strengths of different algorithms, it provides a more effective search experience for users. The [Hybrid search](/developers/weaviate/api/graphql/search-operators#hybrid) feature was introduced in Weaviate 1.17. It uses sparse and dense vectors to represent the meaning and context of search queries and documents.--- title: Unlocking the Power of Hybrid Search - A Deep Dive into Weaviate's Fusion Algorithms slug: hybrid-search-fusion-algorithms authors: [dirk, jp] date: 2023-08-29 image: ./img/hero.png tags: ['search', 'engineering', 'concepts'] description: \"How hybrid search works, and under the hood of Weaviate's fusion algorithms.\" --- ![Hybrid search hero image - shows a combination of results from vector and keyword search](./img/hero.png) :::info Highlights - There are two fusion algorithms available in Weaviate: `rankedFusion` and `relativeScoreFusion`. - `rankedFusion` is the default algorithm. - `relativeScoreFusion` is the newer algorithm, and likely the better choice for most. - We would love to get your feedback on hybrid search. Please fill out [this short survey](https://docs.google.com/forms/d/e/1FAIpQLSfxekC2eh5Xkl0iJYEAoOkfhK4FA5AO-Od3KUz4srreOpq00g/viewform?usp=sf_link).::: ## How does hybrid search work, exactly? ![Hybrid search main image - a figurative image of Weaviate bot combining results from vector and keyword search to produce hybrid search](./img/hybrid-search-illurated.png) Here is an example of a hybrid search: ```python response = ( client.query .get(\"JeopardyQuestion\", [\"question\", \"answer\"]) .with_hybrid(query=\"food\", alpha=0.5) .with_limit(5) .do() ) ``` As mentioned, a hybrid search is really two searches under-the-hood. It performs a vector search (similar to `nearText` or `nearVector` in Weaviate) to find most similar objects to the vector of your query. Meanwhile, it also performs a keyword search, which ranks results based on how often the query terms occur. In other words, a hybrid search performs both of these searches and combines the results.\n",
      "\n",
      "Reasoning: Let's think step by step in order to\u001b[32m produce the blog outline. We first need to introduce the concept of hybrid search and its purpose. Then, we can explain how it works in Weaviate, including the use of dense and sparse vectors. After that, we should delve into the fusion algorithms used in Weaviate's hybrid search, namely `rankedFusion` and `relativeScoreFusion`. Finally, we can provide an example of a hybrid search and explain how it combines the results of vector and keyword searches.\n",
      "\n",
      "Blog Outline: Introduction to Hybrid Search, How Hybrid Search Works in Weaviate, Fusion Algorithms in Weaviate's Hybrid Search, Example of a Hybrid Search, Combining Results in Hybrid Search.\u001b[0m\n",
      "\n",
      "\n",
      "\n"
     ]
    }
   ],
   "source": [
    "gpt4.inspect_history(n=1)"
   ]
  },
  {
   "cell_type": "markdown",
   "id": "0deead35",
   "metadata": {},
   "source": [
    "## Topic to Paragraph"
   ]
  },
  {
   "cell_type": "code",
   "execution_count": 11,
   "id": "88590640",
   "metadata": {},
   "outputs": [],
   "source": [
    "class Topic2Paragraph(dspy.Signature):\n",
    "    \"\"\"\n",
    "    Your task is to write a paragraph that explains a topic based on the retrieved contexts.\n",
    "    \"\"\"\n",
    "    \n",
    "    topic = dspy.InputField(desc=\"A topic to write a paragraph about based on the information in the contexts.\")\n",
    "    contexts = dspy.InputField(desc=\"contains relevant information about the topic.\")\n",
    "    paragraph = dspy.OutputField()"
   ]
  },
  {
   "cell_type": "code",
   "execution_count": 12,
   "id": "ba30b952",
   "metadata": {},
   "outputs": [
    {
     "data": {
      "text/plain": [
       "'Hybrid search in Weaviate is a sophisticated technique that combines multiple search algorithms to enhance the accuracy and relevance of search results. It integrates the best features of both keyword-based search algorithms, also known as BM25 search in Weaviate, and vector search techniques. The hybrid search uses sparse and dense vectors to encapsulate the meaning and context of search queries and documents. There are two fusion algorithms available in Weaviate for this purpose: `rankedFusion` and `relativeScoreFusion`. In essence, a hybrid search performs a vector search to find the most similar objects to the vector of the query, and a keyword search that ranks results based on the frequency of the query terms. The results from both these searches are then combined to provide a more effective and accurate search experience.'"
      ]
     },
     "execution_count": 12,
     "metadata": {},
     "output_type": "execute_result"
    }
   ],
   "source": [
    "toy_topic = \"How does Hybrid Search in Weaviate work?\"\n",
    "toy_topic_context = dspy.Retrieve(k=5)(toy_topic).passages\n",
    "toy_topic_context = \"\".join(toy_topic_context)\n",
    "dspy.ChainOfThought(Topic2Paragraph)(topic=toy_topic, contexts=toy_topic_context).paragraph"
   ]
  },
  {
   "cell_type": "code",
   "execution_count": 13,
   "id": "bce423a5",
   "metadata": {},
   "outputs": [
    {
     "name": "stdout",
     "output_type": "stream",
     "text": [
      "\n",
      "\n",
      "\n",
      "\n",
      "Your task is to write a paragraph that explains a topic based on the retrieved contexts.\n",
      "\n",
      "---\n",
      "\n",
      "Follow the following format.\n",
      "\n",
      "Topic: A topic to write a paragraph about based on the information in the contexts.\n",
      "\n",
      "Contexts: contains relevant information about the topic.\n",
      "\n",
      "Reasoning: Let's think step by step in order to ${produce the paragraph}. We ...\n",
      "\n",
      "Paragraph: ${paragraph}\n",
      "\n",
      "---\n",
      "\n",
      "Topic: How does Hybrid Search in Weaviate work?\n",
      "\n",
      "Contexts: ### Further resources - [How-to: Hybrid search](/developers/weaviate/search/hybrid) - [API References: Hybrid search](/developers/weaviate/api/graphql/search-operators#hybrid)But do you know **how** hybrid search combines these results? And that Weaviate recently added a new algorithm for how this is done? In this post, we’ll dive into exactly the world of hybrid search to discuss how it works, how results are produced, the algorithms used, and more. So let’s get into it! :::info - Vector search and keyword search are also known as dense vector search and sparse vector search respectively. - Keyword search is also called a BM25 search in Weaviate, as it is based on the [BM25F](https://en.wikipedia.org/wiki/Okapi_BM25) scoring algorithm.--- title: Hybrid Search Explained slug: hybrid-search-explained authors: [erika] date: 2023-01-03 tags: ['concepts', 'search'] image: ./img/hero.png description: \"Learn about the new hybrid search feature that enables you to combine dense and sparse vectors to deliver the best of both search methods.\" --- ![Hybrid search](./img/hero.png) <!-- truncate --> Hybrid search is a technique that **combines** multiple search algorithms to improve the accuracy and relevance of search results. It uses the best features of both keyword-based search algorithms with vector search techniques. By leveraging the strengths of different algorithms, it provides a more effective search experience for users. The [Hybrid search](/developers/weaviate/api/graphql/search-operators#hybrid) feature was introduced in Weaviate 1.17. It uses sparse and dense vectors to represent the meaning and context of search queries and documents.--- title: Unlocking the Power of Hybrid Search - A Deep Dive into Weaviate's Fusion Algorithms slug: hybrid-search-fusion-algorithms authors: [dirk, jp] date: 2023-08-29 image: ./img/hero.png tags: ['search', 'engineering', 'concepts'] description: \"How hybrid search works, and under the hood of Weaviate's fusion algorithms.\" --- ![Hybrid search hero image - shows a combination of results from vector and keyword search](./img/hero.png) :::info Highlights - There are two fusion algorithms available in Weaviate: `rankedFusion` and `relativeScoreFusion`. - `rankedFusion` is the default algorithm. - `relativeScoreFusion` is the newer algorithm, and likely the better choice for most. - We would love to get your feedback on hybrid search. Please fill out [this short survey](https://docs.google.com/forms/d/e/1FAIpQLSfxekC2eh5Xkl0iJYEAoOkfhK4FA5AO-Od3KUz4srreOpq00g/viewform?usp=sf_link).::: ## How does hybrid search work, exactly? ![Hybrid search main image - a figurative image of Weaviate bot combining results from vector and keyword search to produce hybrid search](./img/hybrid-search-illurated.png) Here is an example of a hybrid search: ```python response = ( client.query .get(\"JeopardyQuestion\", [\"question\", \"answer\"]) .with_hybrid(query=\"food\", alpha=0.5) .with_limit(5) .do() ) ``` As mentioned, a hybrid search is really two searches under-the-hood. It performs a vector search (similar to `nearText` or `nearVector` in Weaviate) to find most similar objects to the vector of your query. Meanwhile, it also performs a keyword search, which ranks results based on how often the query terms occur. In other words, a hybrid search performs both of these searches and combines the results.\n",
      "\n",
      "Reasoning: Let's think step by step in order to\u001b[32m produce the paragraph. We need to explain what hybrid search is, how it works in Weaviate, and the algorithms it uses. From the contexts, we understand that hybrid search is a technique that combines multiple search algorithms to improve the accuracy and relevance of search results. It uses both keyword-based search algorithms and vector search techniques. In Weaviate, it uses sparse and dense vectors to represent the meaning and context of search queries and documents. There are two fusion algorithms available in Weaviate: `rankedFusion` and `relativeScoreFusion`. A hybrid search performs a vector search and a keyword search, and combines the results.\n",
      "\n",
      "Paragraph: Hybrid search in Weaviate is a sophisticated technique that combines multiple search algorithms to enhance the accuracy and relevance of search results. It integrates the best features of both keyword-based search algorithms, also known as BM25 search in Weaviate, and vector search techniques. The hybrid search uses sparse and dense vectors to encapsulate the meaning and context of search queries and documents. There are two fusion algorithms available in Weaviate for this purpose: `rankedFusion` and `relativeScoreFusion`. In essence, a hybrid search performs a vector search to find the most similar objects to the vector of the query, and a keyword search that ranks results based on the frequency of the query terms. The results from both these searches are then combined to provide a more effective and accurate search experience.\u001b[0m\n",
      "\n",
      "\n",
      "\n"
     ]
    }
   ],
   "source": [
    "gpt4.inspect_history(n=1)"
   ]
  },
  {
   "cell_type": "markdown",
   "id": "74527504",
   "metadata": {},
   "source": [
    "## Proof Reader Signature"
   ]
  },
  {
   "cell_type": "code",
   "execution_count": 14,
   "id": "40ff10ef",
   "metadata": {},
   "outputs": [],
   "source": [
    "class ProofReader(dspy.Signature):\n",
    "    \"\"\"\n",
    "    Proofread a blog post and output a more well written version of the original post.\n",
    "    \"\"\"\n",
    "    \n",
    "    blog_post = dspy.InputField()\n",
    "    proofread_blog_post = dspy.OutputField()    "
   ]
  },
  {
   "cell_type": "markdown",
   "id": "d873a644",
   "metadata": {},
   "source": [
    "## Title Generator"
   ]
  },
  {
   "cell_type": "code",
   "execution_count": 15,
   "id": "23849aba",
   "metadata": {},
   "outputs": [],
   "source": [
    "class TitleGenerator(dspy.Signature):\n",
    "    \"\"\"\n",
    "    Write a title for a blog post given a description of the topics the blog covers as input.\n",
    "    \"\"\"\n",
    "    \n",
    "    blog_outline = dspy.InputField()\n",
    "    title = dspy.OutputField()"
   ]
  },
  {
   "cell_type": "markdown",
   "id": "44e0741d",
   "metadata": {},
   "source": [
    "## Piecing it all together"
   ]
  },
  {
   "cell_type": "code",
   "execution_count": 16,
   "id": "f015d133",
   "metadata": {},
   "outputs": [],
   "source": [
    "class BlogPostWriter(dspy.Module):\n",
    "    def __init__(self):\n",
    "        self.question_to_blog_outline = dspy.ChainOfThought(Question2BlogOutline)\n",
    "        self.topic_to_paragraph = dspy.ChainOfThought(Topic2Paragraph)\n",
    "        self.proof_reader = dspy.ChainOfThought(ProofReader)\n",
    "        self.title_generator = dspy.ChainOfThought(TitleGenerator)\n",
    "    \n",
    "    def forward(self, question):\n",
    "        contexts = dspy.Retrieve(k=5)(question).passages\n",
    "        contexts = \"\".join(contexts)\n",
    "        raw_blog_outline = self.question_to_blog_outline(question=question, contexts=contexts).blog_outline\n",
    "        blog_outline = raw_blog_outline.split(\",\") #Add type hint in expanded Signature\n",
    "        blog = \"\"\n",
    "        for topic in blog_outline:\n",
    "            topic_contexts = dspy.Retrieve(k=5)(topic).passages\n",
    "            topic_contexts = \"\".join(topic_contexts)\n",
    "            blog += self.topic_to_paragraph(topic=topic, contexts=topic_contexts).paragraph\n",
    "            blog += \"\\n \\n\"\n",
    "        blog = self.proof_reader(blog_post=blog).proofread_blog_post\n",
    "        title = self.title_generator(blog_outline=raw_blog_outline).title\n",
    "        final_blog = f\"{title} \\n \\n {blog}\"\n",
    "        return dspy.Prediction(blog=final_blog)"
   ]
  },
  {
   "cell_type": "code",
   "execution_count": 17,
   "id": "4d80b210",
   "metadata": {},
   "outputs": [
    {
     "name": "stdout",
     "output_type": "stream",
     "text": [
      "\"Understanding Weaviate's Hybrid Search: Functioning, Fusion Algorithms, and Result Combination\" \n",
      " \n",
      " Hybrid search is a powerful technique that enhances the accuracy and relevance of search results by merging the best features of keyword-based search algorithms and vector search techniques. This method is employed in Weaviate, a platform that introduced this feature in its 1.17 version. \n",
      "\n",
      "Hybrid search uses both dense and sparse vectors to represent the meaning and context of search queries and documents. Dense vectors excel at understanding the context of the query, while sparse vectors are adept at keyword matches. This combination allows for more accurate and contextually relevant search results. \n",
      "\n",
      "Weaviate offers two fusion algorithms for hybrid search: `rankedFusion` and `relativeScoreFusion`. The `rankedFusion` algorithm is the default, but the newer `relativeScoreFusion` is considered a better choice for most users. These algorithms work by preparing the scores from each search to be compatible with each other, allowing them to be weighted, added up, and presented to the user. \n",
      "\n",
      "In essence, hybrid search in Weaviate combines the strengths of vector and keyword search to deliver semantically rich and precise results. It merges the contextual semantics from the vector search with the keyword matching from the BM25 scoring, producing a set of candidate results. The ranking model then takes the query and candidate document pair as input, further reasoning about the relevance of these results without the need for specialized training. This method of combining results in hybrid search provides a more effective and efficient search experience for users.\n"
     ]
    }
   ],
   "source": [
    "hybrid_search_topic = \"How does Hybrid Search in Weaviate work?\"\n",
    "hybrid_search_blog = BlogPostWriter()(hybrid_search_topic)\n",
    "print(hybrid_search_blog.blog)"
   ]
  },
  {
   "cell_type": "code",
   "execution_count": 18,
   "id": "e9a946c6",
   "metadata": {},
   "outputs": [
    {
     "name": "stdout",
     "output_type": "stream",
     "text": [
      "\"Leveraging Weaviate for e-Commerce: A Case Study of Moonsift\" \n",
      " \n",
      " Weaviate is an open-source, cloud-native, modular, real-time vector database designed to enhance machine learning models. It's not just a data storage system, but also a knowledge representation tool that enables semantic search and automatic classification. Weaviate stores data along with its automatically derived context, including linguistic information and relations to other concepts, resulting in a knowledge network or data graph. The project is community-driven, offering resources such as workshops, a YouTube channel, a blog, and a quickstart guide for those interested in learning more or contributing.\n",
      "\n",
      "Weaviate combines the speed and capabilities of Approximate Nearest Neighbors (ANN) algorithms with the features of a traditional database, such as backups, real-time queries, persistence, and replication. It can be accessed through GraphQL, REST, and client libraries in multiple programming languages. It's particularly useful for applications where data is constantly changing, such as e-commerce recommendations, image search, and semantic similarity. It boasts advanced monitoring and replication capabilities, high query throughput at scale, and unique search features that drive performance and efficiency.\n",
      "\n",
      "Moonsift, a UK-based startup, chose Weaviate to improve product discoverability for online shoppers. Co-founders David Wood and Alex Reed recognized that shoppers often struggle to find the products they're looking for due to retailers tailoring keywords for search engines rather than users. They built Moonsift with the vision of using AI to help shoppers more easily discover products. They have been collecting product data from retailers and cross-retailer shopping data through their browser extension, which has allowed them to train machine learning models on over 60M products, 250M interactions, and 40K retailers. With this data, Moonsift is now ready to launch their AI Copilot, a system designed to understand user intent and serve intelligent results, thereby enhancing the online shopping experience.\n",
      "\n",
      "The team behind Weaviate is expanding to accelerate the development of the platform and to better support its users. They are frequently releasing new features such as vector indices, search pipeline features, and Weaviate Cloud Services. The usage numbers of Weaviate are increasing significantly, indicating its growing popularity and acceptance. User feedback and requests are also being taken into account for future developments. Examples of Weaviate's practical applications include an Autonomous Testing Agent that enhances software testing efficiency and an AI-based nutrition app called BYTE. These projects demonstrate the wide range of possibilities within the AI realm that Weaviate can support. The future of Weaviate looks promising with plans for further evolution and improvement in the coming years.\n"
     ]
    }
   ],
   "source": [
    "ecommerce_topic = \"e-Commerce reimagined with Weaviate\"\n",
    "ecommerce_blog = BlogPostWriter()(ecommerce_topic)\n",
    "print(ecommerce_blog.blog)"
   ]
  },
  {
   "cell_type": "markdown",
   "id": "bd102bdb",
   "metadata": {},
   "source": [
    "## BlogRater Program"
   ]
  },
  {
   "cell_type": "code",
   "execution_count": 19,
   "id": "3f542937",
   "metadata": {},
   "outputs": [],
   "source": [
    "class BlogRater(dspy.Signature):\n",
    "    \"\"\"\n",
    "    Rate a blog post on a scale of 1 to 5 on how well-written it is.\n",
    "    \"\"\"\n",
    "    \n",
    "    blog = dspy.InputField(desc=\"a blog post\")\n",
    "    rating = dspy.OutputField(desc=\"a quality rating on a scale of 1 to 5. IMPORTANT!! ONLY OUTPUT THE RATING AS A FLOAT VALUE AND NOTHING ELSE!\")\n",
    "\n",
    "class MetricProgram(dspy.Module):\n",
    "    def __init__(self):\n",
    "        self.rater = dspy.ChainOfThought(BlogRater)\n",
    "    \n",
    "    def forward(self, gold, pred, trace=None):\n",
    "        blog = pred.blog\n",
    "        gold = gold.question\n",
    "        return float(self.rater(blog=blog).rating)\n",
    "\n",
    "def MetricWrapper(gold, pred, trace=None):\n",
    "    return MetricProgram()(gold=gold, pred=pred)"
   ]
  },
  {
   "cell_type": "code",
   "execution_count": 20,
   "id": "4d9373d8",
   "metadata": {},
   "outputs": [
    {
     "data": {
      "text/plain": [
       "4.8"
      ]
     },
     "execution_count": 20,
     "metadata": {},
     "output_type": "execute_result"
    }
   ],
   "source": [
    "MetricProgram()(gold=dspy.Example(question=hybrid_search_topic).with_inputs(\"question\"), pred=hybrid_search_blog)"
   ]
  },
  {
   "cell_type": "code",
   "execution_count": 21,
   "id": "d6048ddc",
   "metadata": {},
   "outputs": [
    {
     "data": {
      "text/plain": [
       "4.7"
      ]
     },
     "execution_count": 21,
     "metadata": {},
     "output_type": "execute_result"
    }
   ],
   "source": [
    "MetricProgram()(gold=dspy.Example(question=ecommerce_topic).with_inputs(\"question\"), pred=ecommerce_blog)"
   ]
  },
  {
   "cell_type": "code",
   "execution_count": 22,
   "id": "ada11a45",
   "metadata": {},
   "outputs": [
    {
     "name": "stdout",
     "output_type": "stream",
     "text": [
      "\n",
      "\n",
      "\n",
      "\n",
      "Proofread a blog post and output a more well written version of the original post.\n",
      "\n",
      "---\n",
      "\n",
      "Follow the following format.\n",
      "\n",
      "Blog Post: ${blog_post}\n",
      "Reasoning: Let's think step by step in order to ${produce the proofread_blog_post}. We ...\n",
      "Proofread Blog Post: ${proofread_blog_post}\n",
      "\n",
      "---\n",
      "\n",
      "Blog Post: Weaviate is an open-source, cloud-native, modular, real-time vector database designed to scale machine learning models. It is not just a data storage system, but also a knowledge representation tool that enables semantic search and automatic classification. Weaviate stores data along with its automatically derived context, which includes linguistic information and relations to other concepts, resulting in a network of knowledge or a data graph. The project is community-driven, with resources such as workshops, a YouTube channel, a blog, and a quickstart guide available for those interested in learning more or contributing to the project. Weaviate is a cloud-native, modular, real-time vector database that combines the speed and capabilities of Approximate Nearest Neighbors (ANN) algorithms with the features of a traditional database, such as backups, real-time queries, persistence, and replication. It can be accessed through GraphQL, REST, and client libraries in multiple programming languages. Weaviate is particularly useful for applications where data is constantly changing, such as e-commerce recommendations, image search, and semantic similarity. It boasts advanced monitoring and replication capabilities, high query throughput at scale, and unique search features that drive performance and efficiency. Committed to open-source software, Weaviate offers access to all of its vector database capabilities even to customers using the free service. It processes data through machine learning and AI models, excelling at answering questions in natural language and searching images or genetic information. Furthermore, Weaviate supports full CRUD capabilities, allowing objects to be updated, deleted, or added at any time, even while querying. Weaviate is a vector database that combines the speed and capabilities of ANN algorithms with the features of a traditional database. It is accessible through GraphQL, REST, and client libraries in multiple programming languages. Weaviate is particularly useful in applications where data is constantly changing, such as e-commerce recommendations, image search, and semantic similarity. It recently introduced a module that represents a user's interests by drawing a graph of cross-references, enhancing the robustness of applications. Weaviate can also be used for integration testing, allowing for the verification of data import, vectorization, and export processes. It is also capable of automatic classification, reducing manual errors in fields like ERP and supply chain management systems. As an open-source platform, Weaviate is high-performing and cost-efficient at scale, making it a preferred choice for indexing millions of products. It also supports the direct integration of machine learning models, enabling developers to build AI-powered applications more efficiently. Moonsift is a UK-based startup that aims to improve product discoverability for online shoppers by harnessing the power of AI. Co-founders David Wood and Alex Reed recognized that shoppers often struggle to find the products they're looking for due to retailers tailoring keywords for search engines rather than users. To address this, they built Moonsift with the vision of using AI to help shoppers more easily discover products. They have been collecting product data from retailers and cross-retailer shopping data through their browser extension, which has allowed them to train machine learning models on over 60M products, 250M interactions, and 40K retailers. With this data, Moonsift is now ready to launch their AI Copilot, a system designed to understand user intent and serve intelligent results, thereby enhancing the online shopping experience. Moonsift, a UK-based startup, chose Weaviate to harness the power of AI and improve product discoverability for online shoppers. The co-founders, David Wood and Alex Reed, envisioned using AI to help shoppers more easily find the products they love. To achieve this, they collected data from retailers and cross-retailer shopping data to understand the discovery process and train machine learning models. Weaviate, a vector database, was chosen to harness this data and build their AI-powered shopping copilot. As part of their ongoing efforts to optimize their system, they are exploring Weaviate's new feature, Product Quantization (PQ), which helps reduce the memory footprint of their system, while retaining search relevance. Moonsift, a UK-based startup, is leveraging the power of AI through Weaviate to enhance the online shopping experience. The company offers an ecommerce browser extension that allows users to curate shoppable boards with products from various online retailers. To improve product discoverability, Moonsift is utilizing machine learning models and Weaviate’s vector database. The company is also preparing to launch an AI Copilot, a tool designed to understand user intent and provide intelligent results. As part of their ongoing efforts to optimize their system, Moonsift is exploring Weaviate's new features, including Product Quantization and multi-tenancy, which aim to reduce memory footprint and enable personalized vector search for millions of customers. Weaviate, an open-source project, is committed to remaining fully accessible to the community. The team behind Weaviate is expanding to accelerate the development of the platform and to better support its users. They are frequently releasing new features such as vector indices, search pipeline features, and Weaviate Cloud Services. The usage numbers of Weaviate are increasing significantly, indicating its growing popularity and acceptance. User feedback and requests are also being taken into account for future developments. Examples of Weaviate's practical applications include an Autonomous Testing Agent that enhances software testing efficiency and an AI-based nutrition app called BYTE. These projects demonstrate the wide range of possibilities within the AI realm that Weaviate can support. The future of Weaviate looks promising with plans for further evolution and improvement in the coming years. Weaviate is a cloud-native, modular, real-time vector database that can be used to enhance your business operations. It allows users to create a real-time knowledge base, bringing real-time context at query time, and build governed, secured, and trusted AI. This can be particularly useful for creating business competitive analysis dashboards that are updated with the latest market news updates, or for real-time filtering based on region, demographics, personas in online shopping, etc. Weaviate is also highly modular and offers native multi-tenancy support, built-in hybrid search, a robust integration library, and flexible deployment options. It can be used for a variety of applications, including e-commerce recommendations, image search, and semantic similarity. Furthermore, Weaviate is open-source, making it a cost-effective solution for businesses.\n",
      "Reasoning: Let's think step by step in order to\u001b[32m produce a more concise and well-structured blog post. The original post is repetitive and lacks a clear structure. It also contains some redundant information. The introduction should clearly define what Weaviate is and its main features. The next section should discuss its practical applications and benefits. The third section should introduce Moonsift and its use of Weaviate. The final section should discuss the future of Weaviate and its potential applications. \n",
      "Proofread Blog Post: Weaviate is an open-source, cloud-native, modular, real-time vector database designed to enhance machine learning models. It's not just a data storage system, but also a knowledge representation tool that enables semantic search and automatic classification. Weaviate stores data along with its automatically derived context, including linguistic information and relations to other concepts, resulting in a knowledge network or data graph. The project is community-driven, offering resources such as workshops, a YouTube channel, a blog, and a quickstart guide for those interested in learning more or contributing.\n",
      "\n",
      "Weaviate combines the speed and capabilities of Approximate Nearest Neighbors (ANN) algorithms with the features of a traditional database, such as backups, real-time queries, persistence, and replication. It can be accessed through GraphQL, REST, and client libraries in multiple programming languages. It's particularly useful for applications where data is constantly changing, such as e-commerce recommendations, image search, and semantic similarity. It boasts advanced monitoring and replication capabilities, high query throughput at scale, and unique search features that drive performance and efficiency.\n",
      "\n",
      "Moonsift, a UK-based startup, chose Weaviate to improve product discoverability for online shoppers. Co-founders David Wood and Alex Reed recognized that shoppers often struggle to find the products they're looking for due to retailers tailoring keywords for search engines rather than users. They built Moonsift with the vision of using AI to help shoppers more easily discover products. They have been collecting product data from retailers and cross-retailer shopping data through their browser extension, which has allowed them to train machine learning models on over 60M products, 250M interactions, and 40K retailers. With this data, Moonsift is now ready to launch their AI Copilot, a system designed to understand user intent and serve intelligent results, thereby enhancing the online shopping experience.\n",
      "\n",
      "The team behind Weaviate is expanding to accelerate the development of the platform and to better support its users. They are frequently releasing new features such as vector indices, search pipeline features, and Weaviate Cloud Services. The usage numbers of Weaviate are increasing significantly, indicating its growing popularity and acceptance. User feedback and requests are also being taken into account for future developments. Examples of Weaviate's practical applications include an Autonomous Testing Agent that enhances software testing efficiency and an AI-based nutrition app called BYTE. These projects demonstrate the wide range of possibilities within the AI realm that Weaviate can support. The future of Weaviate looks promising with plans for further evolution and improvement in the coming years.\u001b[0m\n",
      "\n",
      "\n",
      "\n",
      "\n",
      "\n",
      "\n",
      "\n",
      "Write a title for a blog post given a description of the topics the blog covers as input.\n",
      "\n",
      "---\n",
      "\n",
      "Follow the following format.\n",
      "\n",
      "Blog Outline: ${blog_outline}\n",
      "Reasoning: Let's think step by step in order to ${produce the title}. We ...\n",
      "Title: ${title}\n",
      "\n",
      "---\n",
      "\n",
      "Blog Outline: Introduction to Weaviate, Weaviate's Capabilities, Application of Weaviate in e-Commerce, Case Study: Moonsift, Why Moonsift Chose Weaviate, How Moonsift is Using Weaviate, The Future of Weaviate, How to Use Weaviate for Your Business.\n",
      "Reasoning: Let's think step by step in order to\u001b[32m produce the title. We are discussing the introduction and capabilities of Weaviate, its application in e-commerce, and a case study of Moonsift using Weaviate. We also discuss the future of Weaviate and how to use it for your business. The title should reflect the main topics which are Weaviate, its application in e-commerce, and the case study of Moonsift.\n",
      "Title: \"Leveraging Weaviate for e-Commerce: A Case Study of Moonsift\"\u001b[0m\n",
      "\n",
      "\n",
      "\n",
      "\n",
      "\n",
      "\n",
      "\n",
      "Rate a blog post on a scale of 1 to 5 on how well-written it is.\n",
      "\n",
      "---\n",
      "\n",
      "Follow the following format.\n",
      "\n",
      "Blog: a blog post\n",
      "Reasoning: Let's think step by step in order to ${produce the rating}. We ...\n",
      "Rating: a quality rating on a scale of 1 to 5. IMPORTANT!! ONLY OUTPUT THE RATING AS A FLOAT VALUE AND NOTHING ELSE!\n",
      "\n",
      "---\n",
      "\n",
      "Blog: \"Understanding Weaviate's Hybrid Search: Functioning, Fusion Algorithms, and Result Combination\" Hybrid search is a powerful technique that enhances the accuracy and relevance of search results by merging the best features of keyword-based search algorithms and vector search techniques. This method is employed in Weaviate, a platform that introduced this feature in its 1.17 version. Hybrid search uses both dense and sparse vectors to represent the meaning and context of search queries and documents. Dense vectors excel at understanding the context of the query, while sparse vectors are adept at keyword matches. This combination allows for more accurate and contextually relevant search results. Weaviate offers two fusion algorithms for hybrid search: `rankedFusion` and `relativeScoreFusion`. The `rankedFusion` algorithm is the default, but the newer `relativeScoreFusion` is considered a better choice for most users. These algorithms work by preparing the scores from each search to be compatible with each other, allowing them to be weighted, added up, and presented to the user. In essence, hybrid search in Weaviate combines the strengths of vector and keyword search to deliver semantically rich and precise results. It merges the contextual semantics from the vector search with the keyword matching from the BM25 scoring, producing a set of candidate results. The ranking model then takes the query and candidate document pair as input, further reasoning about the relevance of these results without the need for specialized training. This method of combining results in hybrid search provides a more effective and efficient search experience for users.\n",
      "Reasoning: Let's think step by step in order to\u001b[32m produce the rating. The blog post is well-structured and informative. It provides a clear explanation of the hybrid search technique and its application in Weaviate. The author uses technical terms appropriately and explains them well for the reader's understanding. The writing style is professional and the content is engaging. The author also provides a comparison between two fusion algorithms, giving the reader a better understanding of the topic. The blog post is free from grammatical errors and the flow of information is smooth. The author has done a good job of explaining a complex topic in a simple and understandable manner.\n",
      "Rating: 4.8\u001b[0m\n",
      "\n",
      "\n",
      "\n",
      "\n",
      "\n",
      "\n",
      "\n",
      "Rate a blog post on a scale of 1 to 5 on how well-written it is.\n",
      "\n",
      "---\n",
      "\n",
      "Follow the following format.\n",
      "\n",
      "Blog: a blog post\n",
      "Reasoning: Let's think step by step in order to ${produce the rating}. We ...\n",
      "Rating: a quality rating on a scale of 1 to 5. IMPORTANT!! ONLY OUTPUT THE RATING AS A FLOAT VALUE AND NOTHING ELSE!\n",
      "\n",
      "---\n",
      "\n",
      "Blog: \"Leveraging Weaviate for e-Commerce: A Case Study of Moonsift\" Weaviate is an open-source, cloud-native, modular, real-time vector database designed to enhance machine learning models. It's not just a data storage system, but also a knowledge representation tool that enables semantic search and automatic classification. Weaviate stores data along with its automatically derived context, including linguistic information and relations to other concepts, resulting in a knowledge network or data graph. The project is community-driven, offering resources such as workshops, a YouTube channel, a blog, and a quickstart guide for those interested in learning more or contributing. Weaviate combines the speed and capabilities of Approximate Nearest Neighbors (ANN) algorithms with the features of a traditional database, such as backups, real-time queries, persistence, and replication. It can be accessed through GraphQL, REST, and client libraries in multiple programming languages. It's particularly useful for applications where data is constantly changing, such as e-commerce recommendations, image search, and semantic similarity. It boasts advanced monitoring and replication capabilities, high query throughput at scale, and unique search features that drive performance and efficiency. Moonsift, a UK-based startup, chose Weaviate to improve product discoverability for online shoppers. Co-founders David Wood and Alex Reed recognized that shoppers often struggle to find the products they're looking for due to retailers tailoring keywords for search engines rather than users. They built Moonsift with the vision of using AI to help shoppers more easily discover products. They have been collecting product data from retailers and cross-retailer shopping data through their browser extension, which has allowed them to train machine learning models on over 60M products, 250M interactions, and 40K retailers. With this data, Moonsift is now ready to launch their AI Copilot, a system designed to understand user intent and serve intelligent results, thereby enhancing the online shopping experience. The team behind Weaviate is expanding to accelerate the development of the platform and to better support its users. They are frequently releasing new features such as vector indices, search pipeline features, and Weaviate Cloud Services. The usage numbers of Weaviate are increasing significantly, indicating its growing popularity and acceptance. User feedback and requests are also being taken into account for future developments. Examples of Weaviate's practical applications include an Autonomous Testing Agent that enhances software testing efficiency and an AI-based nutrition app called BYTE. These projects demonstrate the wide range of possibilities within the AI realm that Weaviate can support. The future of Weaviate looks promising with plans for further evolution and improvement in the coming years.\n",
      "Reasoning: Let's think step by step in order to\u001b[32m produce the rating. The blog post is well-structured and informative, providing a detailed overview of Weaviate and its applications. It uses clear language and technical terms appropriately, making it accessible to both technical and non-technical readers. The post also includes a case study, which provides practical context and demonstrates the real-world impact of the technology. The author has clearly done their research and presents the information in a logical, coherent manner. The post is engaging and maintains a consistent tone throughout. It also provides a glimpse into the future plans for Weaviate, which adds an element of anticipation and interest for the reader. The only minor issue is that the post could have included more visual aids to break up the text and enhance understanding. However, this does not significantly detract from the overall quality of the writing.\n",
      "Rating: 4.7\u001b[0m\n",
      "\n",
      "\n",
      "\n"
     ]
    }
   ],
   "source": [
    "gpt4.inspect_history(n=4)"
   ]
  },
  {
   "cell_type": "code",
   "execution_count": 23,
   "id": "0951f268",
   "metadata": {},
   "outputs": [],
   "source": [
    "trainset = [\n",
    "    dspy.Example(question=\"What is multi-tenancy?\").with_inputs(\"question\"),\n",
    "    dspy.Example(question=\"What is product quantization?\").with_inputs(\"question\"),\n",
    "    dspy.Example(question=\"How does asynchronous indexing work in Weaviate?\").with_inputs(\"question\"),\n",
    "    dspy.Example(question=\"What are cross encoders?\").with_inputs(\"question\")\n",
    "]\n",
    "testset = [\n",
    "    dspy.Example(question=\"What is a vector database?\").with_inputs(\"question\"),\n",
    "    dspy.Example(question=\"What is HNSW?\").with_inputs(\"question\"),    \n",
    "    dspy.Example(question=\"What can I build with Cohere and Weaviate?\").with_inputs(\"question\"),\n",
    "    dspy.Example(question=\"What is a race condition in database systems?\").with_inputs(\"question\"),\n",
    "    dspy.Example(question=\"How do inverted indexes work?\").with_inputs(\"question\")\n",
    "]"
   ]
  },
  {
   "cell_type": "markdown",
   "id": "27d8622e",
   "metadata": {},
   "source": [
    "##  Evaluate Uncompiled"
   ]
  },
  {
   "cell_type": "code",
   "execution_count": 24,
   "id": "141ef9b3",
   "metadata": {
    "scrolled": true
   },
   "outputs": [
    {
     "name": "stderr",
     "output_type": "stream",
     "text": [
      "Average Metric: 23.0 / 5  (460.0): 100%|██████████| 5/5 [06:01<00:00, 72.36s/it]\n"
     ]
    },
    {
     "name": "stdout",
     "output_type": "stream",
     "text": [
      "Average Metric: 23.0 / 5  (460.0%)\n"
     ]
    },
    {
     "name": "stderr",
     "output_type": "stream",
     "text": [
      "/Library/Frameworks/Python.framework/Versions/3.11/lib/python3.11/site-packages/pyparsing.py:108: DeprecationWarning: module 'sre_constants' is deprecated\n",
      "  import sre_constants\n"
     ]
    },
    {
     "data": {
      "text/html": [
       "<style type=\"text/css\">\n",
       "#T_a80ca th {\n",
       "  text-align: left;\n",
       "}\n",
       "#T_a80ca td {\n",
       "  text-align: left;\n",
       "}\n",
       "#T_a80ca_row0_col0, #T_a80ca_row0_col1, #T_a80ca_row0_col2, #T_a80ca_row1_col0, #T_a80ca_row1_col1, #T_a80ca_row1_col2, #T_a80ca_row2_col0, #T_a80ca_row2_col1, #T_a80ca_row2_col2, #T_a80ca_row3_col0, #T_a80ca_row3_col1, #T_a80ca_row3_col2, #T_a80ca_row4_col0, #T_a80ca_row4_col1, #T_a80ca_row4_col2 {\n",
       "  text-align: left;\n",
       "  white-space: pre-wrap;\n",
       "  word-wrap: break-word;\n",
       "  max-width: 400px;\n",
       "}\n",
       "</style>\n",
       "<table id=\"T_a80ca\">\n",
       "  <thead>\n",
       "    <tr>\n",
       "      <th class=\"blank level0\" >&nbsp;</th>\n",
       "      <th id=\"T_a80ca_level0_col0\" class=\"col_heading level0 col0\" >question</th>\n",
       "      <th id=\"T_a80ca_level0_col1\" class=\"col_heading level0 col1\" >blog</th>\n",
       "      <th id=\"T_a80ca_level0_col2\" class=\"col_heading level0 col2\" >MetricWrapper</th>\n",
       "    </tr>\n",
       "  </thead>\n",
       "  <tbody>\n",
       "    <tr>\n",
       "      <th id=\"T_a80ca_level0_row0\" class=\"row_heading level0 row0\" >0</th>\n",
       "      <td id=\"T_a80ca_row0_col0\" class=\"data row0 col0\" >What is a vector database?</td>\n",
       "      <td id=\"T_a80ca_row0_col1\" class=\"data row0 col1\" >\"A Comprehensive Guide to Vector Databases: Definition, Comparison, Use Cases, and More\" A vector database is a modern type of database that stores data indexed...</td>\n",
       "      <td id=\"T_a80ca_row0_col2\" class=\"data row0 col2\" >5.0</td>\n",
       "    </tr>\n",
       "    <tr>\n",
       "      <th id=\"T_a80ca_level0_row1\" class=\"row_heading level0 row1\" >1</th>\n",
       "      <td id=\"T_a80ca_row1_col0\" class=\"data row1 col0\" >What is HNSW?</td>\n",
       "      <td id=\"T_a80ca_row1_col1\" class=\"data row1 col1\" >\"Understanding HNSW: Features, Comparison with Vamana, and Limitations\" Hierarchical Navigable Small World (HNSW) is a graph-based method for finding nearest neighbors in a dataset. It...</td>\n",
       "      <td id=\"T_a80ca_row1_col2\" class=\"data row1 col2\" >4.5</td>\n",
       "    </tr>\n",
       "    <tr>\n",
       "      <th id=\"T_a80ca_level0_row2\" class=\"row_heading level0 row2\" >2</th>\n",
       "      <td id=\"T_a80ca_row2_col0\" class=\"data row2 col0\" >What can I build with Cohere and Weaviate?</td>\n",
       "      <td id=\"T_a80ca_row2_col1\" class=\"data row2 col1\" >\"Harnessing the Power of Cohere and Weaviate: A Comprehensive Guide to Integration and Project Building\" Cohere is an AI platform specializing in Natural Language Processing...</td>\n",
       "      <td id=\"T_a80ca_row2_col2\" class=\"data row2 col2\" >4.5</td>\n",
       "    </tr>\n",
       "    <tr>\n",
       "      <th id=\"T_a80ca_level0_row3\" class=\"row_heading level0 row3\" >3</th>\n",
       "      <td id=\"T_a80ca_row3_col0\" class=\"data row3 col0\" >What is a race condition in database systems?</td>\n",
       "      <td id=\"T_a80ca_row3_col1\" class=\"data row3 col1\" >\"Solving Race Conditions in Database Systems with the Lock Striping Pattern: A Comprehensive Guide\" A race condition is a common issue in database systems, particularly...</td>\n",
       "      <td id=\"T_a80ca_row3_col2\" class=\"data row3 col2\" >4.5</td>\n",
       "    </tr>\n",
       "    <tr>\n",
       "      <th id=\"T_a80ca_level0_row4\" class=\"row_heading level0 row4\" >4</th>\n",
       "      <td id=\"T_a80ca_row4_col0\" class=\"data row4 col0\" >How do inverted indexes work?</td>\n",
       "      <td id=\"T_a80ca_row4_col1\" class=\"data row4 col1\" >\"In-Depth Understanding of Inverted Indexes: Roles, Organization, Metrics, and Comparison with Bitmap Indexes\" An inverted index is a key component in data storage and retrieval...</td>\n",
       "      <td id=\"T_a80ca_row4_col2\" class=\"data row4 col2\" >4.5</td>\n",
       "    </tr>\n",
       "  </tbody>\n",
       "</table>\n"
      ],
      "text/plain": [
       "<pandas.io.formats.style.Styler at 0x1592bf950>"
      ]
     },
     "metadata": {},
     "output_type": "display_data"
    },
    {
     "data": {
      "text/plain": [
       "460.0"
      ]
     },
     "execution_count": 24,
     "metadata": {},
     "output_type": "execute_result"
    }
   ],
   "source": [
    "from dspy.evaluate.evaluate import Evaluate\n",
    "\n",
    "evaluate = Evaluate(devset=testset, num_threads=1, display_progress=True, display_table=5)\n",
    "\n",
    "evaluate(BlogPostWriter(), metric=MetricWrapper)"
   ]
  },
  {
   "cell_type": "markdown",
   "id": "a5aa4d5c",
   "metadata": {},
   "source": [
    "## Compile"
   ]
  },
  {
   "cell_type": "code",
   "execution_count": 25,
   "id": "863f6c4a",
   "metadata": {},
   "outputs": [
    {
     "name": "stderr",
     "output_type": "stream",
     "text": [
      " 25%|███████████▎                                 | 1/4 [01:16<03:48, 76.10s/it]"
     ]
    },
    {
     "name": "stdout",
     "output_type": "stream",
     "text": [
      "Bootstrapped 1 full traces after 2 examples in round 0.\n"
     ]
    },
    {
     "name": "stderr",
     "output_type": "stream",
     "text": [
      "\n"
     ]
    }
   ],
   "source": [
    "from dspy.teleprompt import BootstrapFewShot\n",
    "\n",
    "teleprompter = BootstrapFewShot(metric=MetricWrapper, max_bootstrapped_demos=1,max_rounds=1)\n",
    "\n",
    "# also common to init here, e.g. Rag()\n",
    "compiled_blog_writer = teleprompter.compile(BlogPostWriter(), trainset=trainset)"
   ]
  },
  {
   "cell_type": "markdown",
   "id": "e759de60",
   "metadata": {},
   "source": [
    "## Save Compiled Program"
   ]
  },
  {
   "cell_type": "code",
   "execution_count": 27,
   "id": "3650d101",
   "metadata": {},
   "outputs": [],
   "source": [
    "# Save the program\n",
    "compiled_blog_writer.save(\"compiled_blog_writer.json\")"
   ]
  },
  {
   "cell_type": "markdown",
   "id": "d9448bf8",
   "metadata": {},
   "source": [
    "## Load Compiled Program"
   ]
  },
  {
   "cell_type": "code",
   "execution_count": 34,
   "id": "630fe1f4",
   "metadata": {},
   "outputs": [],
   "source": [
    "# Load the program\n",
    "compiled_blog_writer = BlogPostWriter()\n",
    "compiled_blog_writer.load(\"compiled_blog_writer.json\")"
   ]
  },
  {
   "cell_type": "markdown",
   "id": "a698a262",
   "metadata": {},
   "source": [
    "## Quick Test"
   ]
  },
  {
   "cell_type": "code",
   "execution_count": 31,
   "id": "ef34cae1",
   "metadata": {},
   "outputs": [
    {
     "name": "stdout",
     "output_type": "stream",
     "text": [
      "\"The Evolution and Future of Database Management: Unpacking the Self-Driving Database\" \n",
      "\n",
      "---\n",
      "\n",
      "Blog Outline: Introduction to Veganism, Health Benefits of a Vegan Diet, Environmental Impact of Veganism, Common Myths about Veganism, Tips for Transitioning to a Vegan Lifestyle.\n",
      "Reasoning: Let's think step by step in order to produce the title. The blog covers various aspects of veganism, including its health benefits, environmental impact, and common myths. It also provides tips for transitioning to a vegan lifestyle. The title should reflect these points and indicate that the blog will provide a comprehensive guide to veganism.\n",
      "Title: \"Embracing Veganism: Health, Environment, Myths, and Transitioning Tips\"\n",
      "\n",
      "---\n",
      "\n",
      "Blog Outline: Understanding Cryptocurrency, The Rise of Bitcoin, How Blockchain Technology Works, Investing in Cryptocurrency, Future Predictions for Cryptocurrency.\n",
      "Reasoning: Let's think step by step in order to produce the title. The blog is about cryptocurrency, with a focus on Bitcoin and blockchain technology. It also covers investment in cryptocurrency and future predictions. The title should encapsulate these points and indicate that the blog will provide a comprehensive understanding of this topic.\n",
      "Title: \"Demystifying Cryptocurrency: From Bitcoin Rise to Blockchain Technology and Future Predictions\"\n",
      "\n",
      "---\n",
      "\n",
      "Blog Outline: Introduction to Artificial Intelligence, History of AI, Current Trends in AI, Impact of AI on Various Industries, Future of AI.\n",
      "Reasoning: Let's think step by step in order to produce the title. The blog is about Artificial Intelligence, its history, current trends, impact on industries, and future. The title should encapsulate these points and indicate that the blog will provide a comprehensive understanding of AI.\n",
      "Title: \"Artificial Intelligence Uncovered: History, Trends, Industry Impact, and Future Predictions\" \n",
      " \n",
      " A self-driving database, such as a vector database, is a revolutionary technology that uses machine learning models to index data. This type of database excels at extracting value from unstructured data, including text, photos, video, audio files, and even genetic information. It can answer queries posed in natural language and search anything from images to DNA. Much of the software involved in these databases is open source, allowing users to customize it to meet their specific needs. This AI-first database technology is ushering in a new era of data management and retrieval. The evolution of database technology has seen three major waves. The first wave was dominated by SQL databases, managed by companies like Oracle and Microsoft. The second wave, known as NoSQL, marked a shift from relational tables to different data storage methods. The third and current wave is characterized by AI-first databases, such as Weaviate's vector database. These databases process data using machine learning models, enabling them to handle a wide range of data types and queries. Key features of a self-driving database include consistency, resiliency, and scaling. One of the unique aspects of a self-driving database is its ability to answer queries posed in natural language, extending beyond text searches to include searches for images, DNA, and more. A self-driving database like Weaviate offers several benefits. It uses AI models to process, store, and search through data, making it excellent at answering questions in natural language and adaptable to searching images or genetic information. Unlike a traditional relational database that is designed to store structured data in columns, a vector database like Weaviate is optimized to store unstructured data and their vector embeddings. This difference in optimization leads to a difference in the way data is stored and retrieved. The future of database management is being shaped by the emergence of AI-first database technology and vector databases. This \"third wave\" of database technology includes new search engines and databases that can answer queries posed in natural language and search anything from images to DNA. As a result, Weaviate excels at answering questions in natural language and is adaptable to searching images or even genetic information.\n"
     ]
    }
   ],
   "source": [
    "print(compiled_blog_writer(\"What is a Self-Driving Database?\").blog)"
   ]
  },
  {
   "cell_type": "code",
   "execution_count": 36,
   "id": "86a58a14",
   "metadata": {},
   "outputs": [
    {
     "name": "stdout",
     "output_type": "stream",
     "text": [
      "\n",
      "\n",
      "\n",
      "\n",
      "Your task is to write a paragraph that explains a topic based on the retrieved contexts.\n",
      "\n",
      "---\n",
      "\n",
      "Follow the following format.\n",
      "\n",
      "Topic: A topic to write a paragraph about based on the information in the contexts.\n",
      "\n",
      "Contexts: contains relevant information about the topic.\n",
      "\n",
      "Reasoning: Let's think step by step in order to ${produce the paragraph}. We ...\n",
      "\n",
      "Paragraph: ${paragraph}\n",
      "\n",
      "---\n",
      "\n",
      "Topic: Definition of Multi-Tenancy\n",
      "\n",
      "Contexts: But if you have a multi-tenancy case, all you need to do is select multi-tenancy for your class (or classes). You can keep using all your favorite features, including super-fast queries, cross-references, and replication. The only change? For every operation, specify the tenant key – a user-defined property in your schema. That’s all that changes.Weaviate `v1.20` - coming in July 2023 - changes this once and for all: Native multi-tenancy support that scales to millions of tenants with 10s of thousands of active tenants per node. Yet scale is not the only point that makes the new multi-tenancy feature great; we put a lot of emphasis on compliance and a smooth UX. GDPR-compliant deletes with one command are just one of the many features. Let me walk you through what’s coming in the next Weaviate release and show you why I’m incredibly excited about this one. ## The need for multi-tenancy We define multi-tenancy as the need to serve multiple distinct users or user groups from a single application.## No more workarounds: Native multi-tenancy support for the largest of cases ![multi-tenancy](./img/multi-tenancy-dark.png#gh-dark-mode-only) ![multi-tenancy](./img/multi-tenancy-light.png#gh-light-mode-only) Let me walk you through the best parts of the native multi-tenancy feature in Weaviate `v1.20` and even some of the plans that we have for upcoming releases. As you will see, Multi-Tenancy is not just an additional feature. It is rethinking from the ground up how your business, with its many customers, scales with Weaviate. ### Ease of use of your favorite Weaviate features Weaviate’s new multi-tenancy mode is opt-in. If you don’t require it, there are no changes for you.* **Cost-efficiency**: With usage peaking around tax season but most tenants inactive for many days of the month, ACME shouldn’t have to pay for a large setup that is essentially idle most of the time. * **Diversity of tenants**: ACME has both large and small customers. Their setup needs to be able to handle tenants of vastly different sizes. While most tenants are small, a few tenants can make up a large bulk of the data. ## A time before multi-tenancy support Before Weaviate `v1.20`, you had two options to model a multi-tenancy landscape.--- title: Multi-Tenancy Vector Search with millions of tenants slug: multi-tenancy-vector-search authors: [etienne] date: 2023-06-15 image: ./img/hero.png tags: ['engineering', 'concepts'] description: \"Learn about the new native multi-tenancy feature\" --- ![Multi-Tenancy ](./img/hero.png) <!-- truncate --> Large-scale setups were always a great reason to choose Weaviate. Last year we wrote about the first time [a Weaviate setup ran with a billion objects & vectors](/blog/sphere-dataset-in-weaviate). What was a mere experiment back then is a regular production case today. But earlier this year, we saw a shift in usage patterns: As we onboarded more and more large-scale and enterprise users, the definition of scale shifted from the number of vectors to the number of individual tenants that can run on a single setup. Previously, Weaviate offered multiple ways to tackle multi-tenancy, but none were intended for a massive scale.\n",
      "\n",
      "Reasoning: Let's think step by step in order to produce the paragraph. We need to define what multi-tenancy is, explain its importance, and how it is implemented in the context of Weaviate. We can start by defining multi-tenancy as the need to serve multiple distinct users or user groups from a single application. Then, we can explain how it is implemented in Weaviate, where users can select multi-tenancy for their classes and specify a tenant key for every operation. We can also mention that Weaviate's multi-tenancy feature is opt-in and is designed to be cost-efficient and capable of handling tenants of vastly different sizes. Lastly, we can highlight that Weaviate's upcoming release will offer native multi-tenancy support that scales to millions of tenants.\n",
      "\n",
      "Paragraph: Multi-tenancy is defined as the need to serve multiple distinct users or user groups from a single application. In the context of Weaviate, a user can select multi-tenancy for their classes and specify a tenant key for every operation. This feature is opt-in, meaning if you don't require it, there are no changes for you. It is designed to be cost-efficient and capable of handling tenants of vastly different sizes. The upcoming release of Weaviate, version 1.20, will offer native multi-tenancy support that scales to millions of tenants, with tens of thousands of active tenants per node. This new feature is not just an additional feature, but a rethinking of how businesses with many customers can scale with Weaviate.\n",
      "\n",
      "---\n",
      "\n",
      "Topic: Key Features of a Self-Driving Database\n",
      "\n",
      "Contexts: * **Consistency. Resiliency and Scaling** Some databases have atomic transactions, others don't support consistency at all. Some databases scale really well in the cloud, others work best as big, single machines. The exact characteristics do not make a database a database. But the fact that the engineers who built it have decided on a specific strategy is a key trait of a database.What I love about all this work, like self-ask, chain of thought, we're developing new querying languages. This is like us inventing SQL, except that we didn't design the database. The database came into being and we have to figure out how to interact with it. That example I mentioned about the IPython interaction, like that's a, again, it's a new querying language. And I honestly thought the most potent part of the self-ask wasn't even necessarily the self-ask part.## How We Got Here First-wave database technology is often called by the acronym SQL—the initials of a ubiquitous query language used to manage relational databases, which are conceptually similar to spreadsheets or tables. Throughout the 1980s, this technology was dominated by companies like Oracle and Microsoft. The second wave of databases is called \"NoSQL\". These are the domain of companies like MongoDB. They store data in different ways, for example, key-value stores, document stores, wide-column stores and graph databases, but what they all have in common is that they're not relational tables.### The appeal of Weakly-Suppervised or Self-Supervised learning techniques The list of datasets from the 1B training pairs challenge illustrates the appeal of Weakly Supervised or Self-Supervised Learning techniques. To contrast, Natural Questions is one of the larger Supervised datasets for the Question Answering Task. Natural Questions (NQ) requires humans to derive questions given a Wikipedia context as input. As a result of this slow process, the dataset contains 100,231 question-context-answer tuples… Which is quite impressive, but much smaller than the ~730 million pairs extracted from Reddit without human intervention. ### Scale vs model fit Large-scale and **expensive** models can achieve remarkable abilities with datasets like 730 million Reddit conversations.--- title: The AI-First Database Ecosystem slug: the-ai-first-database-ecosystem authors: [bob] date: 2022-06-23 tags: ['concepts'] image: ./img/hero.jpeg # canonical-url: https://www.forbes.com/sites/forbestechcouncil/2022/06/23/the-ai-first-database-ecosystem/ # canonical-name: Forbes description: \"Learn about the vision of the AI-First Database Ecosystem, which drives the R&D of the databases of the future.\" --- ![The AI-First Database Ecosystem](./img/hero.jpeg) <!-- truncate --> A new ecosystem of smaller companies is ushering in a \"third wave\" of AI-first database technology. New search engines and databases brilliantly answer queries posed in natural language, but their machine-learning models are not limited to text searches. The same approach can also be used to search anything from images to DNA. Much of the software involved is open source, so it functions transparently and users can customize it to meet their specific needs. Clients can retain control of their data, keeping it safely behind their own firewalls.\n",
      "\n",
      "Reasoning: Let's think step by step in order to\u001b[32m produce the paragraph. We need to highlight the key features of a self-driving database, including consistency, resiliency, scaling, and the use of machine learning models. We can start by explaining that a self-driving database is designed with a specific strategy in mind by its engineers, which can include features like atomic transactions and scalability. We can then mention that these databases can brilliantly answer queries posed in natural language and are not limited to text searches. They can also be used to search anything from images to DNA. Lastly, we can highlight that much of the software involved in these databases is open source, allowing users to customize it to meet their specific needs and retain control of their data.\n",
      "\n",
      "Paragraph: A self-driving database is characterized by key features such as consistency, resiliency, and scaling. These features are determined by the specific strategy decided upon by the engineers who built the database. One of the unique aspects of a self-driving database is its ability to answer queries posed in natural language, extending beyond text searches to include searches for images, DNA, and more. This is made possible through the use of machine learning models. Furthermore, much of the software involved in self-driving databases is open source. This transparency allows users to customize the database to meet their specific needs and retain control of their data, ensuring it remains safely behind their own firewalls.\u001b[0m\n",
      "\n",
      "\n",
      "\n",
      "\n",
      "\n",
      "\n",
      "\n",
      "Your task is to write a paragraph that explains a topic based on the retrieved contexts.\n",
      "\n",
      "---\n",
      "\n",
      "Follow the following format.\n",
      "\n",
      "Topic: A topic to write a paragraph about based on the information in the contexts.\n",
      "\n",
      "Contexts: contains relevant information about the topic.\n",
      "\n",
      "Reasoning: Let's think step by step in order to ${produce the paragraph}. We ...\n",
      "\n",
      "Paragraph: ${paragraph}\n",
      "\n",
      "---\n",
      "\n",
      "Topic: Definition of Multi-Tenancy\n",
      "\n",
      "Contexts: But if you have a multi-tenancy case, all you need to do is select multi-tenancy for your class (or classes). You can keep using all your favorite features, including super-fast queries, cross-references, and replication. The only change? For every operation, specify the tenant key – a user-defined property in your schema. That’s all that changes.Weaviate `v1.20` - coming in July 2023 - changes this once and for all: Native multi-tenancy support that scales to millions of tenants with 10s of thousands of active tenants per node. Yet scale is not the only point that makes the new multi-tenancy feature great; we put a lot of emphasis on compliance and a smooth UX. GDPR-compliant deletes with one command are just one of the many features. Let me walk you through what’s coming in the next Weaviate release and show you why I’m incredibly excited about this one. ## The need for multi-tenancy We define multi-tenancy as the need to serve multiple distinct users or user groups from a single application.## No more workarounds: Native multi-tenancy support for the largest of cases ![multi-tenancy](./img/multi-tenancy-dark.png#gh-dark-mode-only) ![multi-tenancy](./img/multi-tenancy-light.png#gh-light-mode-only) Let me walk you through the best parts of the native multi-tenancy feature in Weaviate `v1.20` and even some of the plans that we have for upcoming releases. As you will see, Multi-Tenancy is not just an additional feature. It is rethinking from the ground up how your business, with its many customers, scales with Weaviate. ### Ease of use of your favorite Weaviate features Weaviate’s new multi-tenancy mode is opt-in. If you don’t require it, there are no changes for you.* **Cost-efficiency**: With usage peaking around tax season but most tenants inactive for many days of the month, ACME shouldn’t have to pay for a large setup that is essentially idle most of the time. * **Diversity of tenants**: ACME has both large and small customers. Their setup needs to be able to handle tenants of vastly different sizes. While most tenants are small, a few tenants can make up a large bulk of the data. ## A time before multi-tenancy support Before Weaviate `v1.20`, you had two options to model a multi-tenancy landscape.--- title: Multi-Tenancy Vector Search with millions of tenants slug: multi-tenancy-vector-search authors: [etienne] date: 2023-06-15 image: ./img/hero.png tags: ['engineering', 'concepts'] description: \"Learn about the new native multi-tenancy feature\" --- ![Multi-Tenancy ](./img/hero.png) <!-- truncate --> Large-scale setups were always a great reason to choose Weaviate. Last year we wrote about the first time [a Weaviate setup ran with a billion objects & vectors](/blog/sphere-dataset-in-weaviate). What was a mere experiment back then is a regular production case today. But earlier this year, we saw a shift in usage patterns: As we onboarded more and more large-scale and enterprise users, the definition of scale shifted from the number of vectors to the number of individual tenants that can run on a single setup. Previously, Weaviate offered multiple ways to tackle multi-tenancy, but none were intended for a massive scale.\n",
      "\n",
      "Reasoning: Let's think step by step in order to produce the paragraph. We need to define what multi-tenancy is, explain its importance, and how it is implemented in the context of Weaviate. We can start by defining multi-tenancy as the need to serve multiple distinct users or user groups from a single application. Then, we can explain how it is implemented in Weaviate, where users can select multi-tenancy for their classes and specify a tenant key for every operation. We can also mention that Weaviate's multi-tenancy feature is opt-in and is designed to be cost-efficient and capable of handling tenants of vastly different sizes. Lastly, we can highlight that Weaviate's upcoming release will offer native multi-tenancy support that scales to millions of tenants.\n",
      "\n",
      "Paragraph: Multi-tenancy is defined as the need to serve multiple distinct users or user groups from a single application. In the context of Weaviate, a user can select multi-tenancy for their classes and specify a tenant key for every operation. This feature is opt-in, meaning if you don't require it, there are no changes for you. It is designed to be cost-efficient and capable of handling tenants of vastly different sizes. The upcoming release of Weaviate, version 1.20, will offer native multi-tenancy support that scales to millions of tenants, with tens of thousands of active tenants per node. This new feature is not just an additional feature, but a rethinking of how businesses with many customers can scale with Weaviate.\n",
      "\n",
      "---\n",
      "\n",
      "Topic: Benefits of Using a Self-Driving Database\n",
      "\n",
      "Contexts: However, consistent with Weaviate's commitment to creating truly open-source software, customers using the free service will always be able to access all of the Weaviate's vector database capabilities. Weaviate vector database is an example of a \"third wave\" database technology. Data is processed by a machine learning model first, and AI models help in processing, storing, and searching through the data. As a result, Weaviate excels at answering questions in natural language, but it is not limited to language; it is as adaptable to searching images or even genetic information. > \"Depending on the machine-learning model used, a \"document\"—basically a data object—in a vector database typically has anywhere from 120 to 12,800 dimensions,\" van Luijt explains.Code: AI can generate cod snippets based on the user’s requirements and create a feedback loop with tests to improve the code over time. 3. AutoCAD drawings: AI could create CAD drawings of buildings based on 3D models and store information about the materials available in the environment, making it easier for architects and engineers to design and plan construction projects. 4. Tesla Configuration: The car’s settings could be personalized based on the user’s driving style and preferences, such as choosing a slow and relaxed drive home versus a fast and sporty one.### The appeal of Weakly-Suppervised or Self-Supervised learning techniques The list of datasets from the 1B training pairs challenge illustrates the appeal of Weakly Supervised or Self-Supervised Learning techniques. To contrast, Natural Questions is one of the larger Supervised datasets for the Question Answering Task. Natural Questions (NQ) requires humans to derive questions given a Wikipedia context as input. As a result of this slow process, the dataset contains 100,231 question-context-answer tuples… Which is quite impressive, but much smaller than the ~730 million pairs extracted from Reddit without human intervention. ### Scale vs model fit Large-scale and **expensive** models can achieve remarkable abilities with datasets like 730 million Reddit conversations.### Vector Database vs. Traditional (Relational) Database The main difference between a traditional (relational) database and a modern vector database comes from the type of data they were optimized for. While a relational database is designed to store structured data in columns, a vector database is also optimized to store unstructured data (e.g., text, images, or audio) and their vector embeddings. Because vector databases and relational databases are optimized for different types of data, they also differ in the way data is stored and retrieved. In a relational database, data is stored in columns and retrieved by keyword matches in traditional search.What I love about all this work, like self-ask, chain of thought, we're developing new querying languages. This is like us inventing SQL, except that we didn't design the database. The database came into being and we have to figure out how to interact with it. That example I mentioned about the IPython interaction, like that's a, again, it's a new querying language. And I honestly thought the most potent part of the self-ask wasn't even necessarily the self-ask part.\n",
      "\n",
      "Reasoning: Let's think step by step in order to\u001b[32m produce the paragraph. We need to highlight the benefits of using a self-driving database like Weaviate. We can start by explaining that Weaviate is a \"third wave\" database technology that uses AI models to process, store, and search through data. This makes it excellent at answering questions in natural language and adaptable to searching images or genetic information. We can then mention that the data in a vector database has anywhere from 120 to 12,800 dimensions, depending on the machine-learning model used. We can also highlight that a vector database is optimized to store unstructured data and their vector embeddings, unlike a traditional relational database that is designed to store structured data in columns. Lastly, we can mention that using a self-driving database like Weaviate can lead to the development of new querying languages.\n",
      "\n",
      "Paragraph: A self-driving database like Weaviate offers several benefits. As a \"third wave\" database technology, Weaviate uses AI models to process, store, and search through data. This makes it excellent at answering questions in natural language and adaptable to searching images or genetic information. Depending on the machine-learning model used, a data object in a vector database typically has anywhere from 120 to 12,800 dimensions. Unlike a traditional relational database that is designed to store structured data in columns, a vector database like Weaviate is optimized to store unstructured data and their vector embeddings. This difference in optimization leads to a difference in the way data is stored and retrieved. Furthermore, using a self-driving database like Weaviate can lead to the development of new querying languages, offering more flexibility and adaptability in data management.\u001b[0m\n",
      "\n",
      "\n",
      "\n",
      "\n",
      "\n",
      "\n",
      "\n",
      "Your task is to write a paragraph that explains a topic based on the retrieved contexts.\n",
      "\n",
      "---\n",
      "\n",
      "Follow the following format.\n",
      "\n",
      "Topic: A topic to write a paragraph about based on the information in the contexts.\n",
      "\n",
      "Contexts: contains relevant information about the topic.\n",
      "\n",
      "Reasoning: Let's think step by step in order to ${produce the paragraph}. We ...\n",
      "\n",
      "Paragraph: ${paragraph}\n",
      "\n",
      "---\n",
      "\n",
      "Topic: Definition of Multi-Tenancy\n",
      "\n",
      "Contexts: But if you have a multi-tenancy case, all you need to do is select multi-tenancy for your class (or classes). You can keep using all your favorite features, including super-fast queries, cross-references, and replication. The only change? For every operation, specify the tenant key – a user-defined property in your schema. That’s all that changes.Weaviate `v1.20` - coming in July 2023 - changes this once and for all: Native multi-tenancy support that scales to millions of tenants with 10s of thousands of active tenants per node. Yet scale is not the only point that makes the new multi-tenancy feature great; we put a lot of emphasis on compliance and a smooth UX. GDPR-compliant deletes with one command are just one of the many features. Let me walk you through what’s coming in the next Weaviate release and show you why I’m incredibly excited about this one. ## The need for multi-tenancy We define multi-tenancy as the need to serve multiple distinct users or user groups from a single application.## No more workarounds: Native multi-tenancy support for the largest of cases ![multi-tenancy](./img/multi-tenancy-dark.png#gh-dark-mode-only) ![multi-tenancy](./img/multi-tenancy-light.png#gh-light-mode-only) Let me walk you through the best parts of the native multi-tenancy feature in Weaviate `v1.20` and even some of the plans that we have for upcoming releases. As you will see, Multi-Tenancy is not just an additional feature. It is rethinking from the ground up how your business, with its many customers, scales with Weaviate. ### Ease of use of your favorite Weaviate features Weaviate’s new multi-tenancy mode is opt-in. If you don’t require it, there are no changes for you.* **Cost-efficiency**: With usage peaking around tax season but most tenants inactive for many days of the month, ACME shouldn’t have to pay for a large setup that is essentially idle most of the time. * **Diversity of tenants**: ACME has both large and small customers. Their setup needs to be able to handle tenants of vastly different sizes. While most tenants are small, a few tenants can make up a large bulk of the data. ## A time before multi-tenancy support Before Weaviate `v1.20`, you had two options to model a multi-tenancy landscape.--- title: Multi-Tenancy Vector Search with millions of tenants slug: multi-tenancy-vector-search authors: [etienne] date: 2023-06-15 image: ./img/hero.png tags: ['engineering', 'concepts'] description: \"Learn about the new native multi-tenancy feature\" --- ![Multi-Tenancy ](./img/hero.png) <!-- truncate --> Large-scale setups were always a great reason to choose Weaviate. Last year we wrote about the first time [a Weaviate setup ran with a billion objects & vectors](/blog/sphere-dataset-in-weaviate). What was a mere experiment back then is a regular production case today. But earlier this year, we saw a shift in usage patterns: As we onboarded more and more large-scale and enterprise users, the definition of scale shifted from the number of vectors to the number of individual tenants that can run on a single setup. Previously, Weaviate offered multiple ways to tackle multi-tenancy, but none were intended for a massive scale.\n",
      "\n",
      "Reasoning: Let's think step by step in order to produce the paragraph. We need to define what multi-tenancy is, explain its importance, and how it is implemented in the context of Weaviate. We can start by defining multi-tenancy as the need to serve multiple distinct users or user groups from a single application. Then, we can explain how it is implemented in Weaviate, where users can select multi-tenancy for their classes and specify a tenant key for every operation. We can also mention that Weaviate's multi-tenancy feature is opt-in and is designed to be cost-efficient and capable of handling tenants of vastly different sizes. Lastly, we can highlight that Weaviate's upcoming release will offer native multi-tenancy support that scales to millions of tenants.\n",
      "\n",
      "Paragraph: Multi-tenancy is defined as the need to serve multiple distinct users or user groups from a single application. In the context of Weaviate, a user can select multi-tenancy for their classes and specify a tenant key for every operation. This feature is opt-in, meaning if you don't require it, there are no changes for you. It is designed to be cost-efficient and capable of handling tenants of vastly different sizes. The upcoming release of Weaviate, version 1.20, will offer native multi-tenancy support that scales to millions of tenants, with tens of thousands of active tenants per node. This new feature is not just an additional feature, but a rethinking of how businesses with many customers can scale with Weaviate.\n",
      "\n",
      "---\n",
      "\n",
      "Topic: Future of Database Management.\n",
      "\n",
      "Contexts: --- title: The AI-First Database Ecosystem slug: the-ai-first-database-ecosystem authors: [bob] date: 2022-06-23 tags: ['concepts'] image: ./img/hero.jpeg # canonical-url: https://www.forbes.com/sites/forbestechcouncil/2022/06/23/the-ai-first-database-ecosystem/ # canonical-name: Forbes description: \"Learn about the vision of the AI-First Database Ecosystem, which drives the R&D of the databases of the future.\" --- ![The AI-First Database Ecosystem](./img/hero.jpeg) <!-- truncate --> A new ecosystem of smaller companies is ushering in a \"third wave\" of AI-first database technology. New search engines and databases brilliantly answer queries posed in natural language, but their machine-learning models are not limited to text searches. The same approach can also be used to search anything from images to DNA. Much of the software involved is open source, so it functions transparently and users can customize it to meet their specific needs. Clients can retain control of their data, keeping it safely behind their own firewalls.### Vector Database vs. Traditional (Relational) Database The main difference between a traditional (relational) database and a modern vector database comes from the type of data they were optimized for. While a relational database is designed to store structured data in columns, a vector database is also optimized to store unstructured data (e.g., text, images, or audio) and their vector embeddings. Because vector databases and relational databases are optimized for different types of data, they also differ in the way data is stored and retrieved. In a relational database, data is stored in columns and retrieved by keyword matches in traditional search.* **Consistency. Resiliency and Scaling** Some databases have atomic transactions, others don't support consistency at all. Some databases scale really well in the cloud, others work best as big, single machines. The exact characteristics do not make a database a database. But the fact that the engineers who built it have decided on a specific strategy is a key trait of a database.This leads to the simplest definition of a third database wave: A vector database that stores data indexed by machine learning models. Different types of databases (e.g., vector search engines) allow users to search through these vectorized datasets, and others (e.g., feature stores) allow users to store vectors at a large scale for later use. ## We're awash in unstructured data. We're living in a time of massive data accumulation and much, if not most of it, is unstructured: text, photos, video, audio files, as well as other things such as genetic information. Vector search is particularly good at extracting value from such data.However, consistent with Weaviate's commitment to creating truly open-source software, customers using the free service will always be able to access all of the Weaviate's vector database capabilities. Weaviate vector database is an example of a \"third wave\" database technology. Data is processed by a machine learning model first, and AI models help in processing, storing, and searching through the data. As a result, Weaviate excels at answering questions in natural language, but it is not limited to language; it is as adaptable to searching images or even genetic information. > \"Depending on the machine-learning model used, a \"document\"—basically a data object—in a vector database typically has anywhere from 120 to 12,800 dimensions,\" van Luijt explains.\n",
      "\n",
      "Reasoning: Let's think step by step in order to\u001b[32m produce the paragraph. We need to discuss the future of database management, focusing on the emergence of AI-first database technology and vector databases. We can start by mentioning the \"third wave\" of AI-first database technology, which includes new search engines and databases that can answer queries in natural language and search anything from images to DNA. Then, we can explain the difference between traditional relational databases and modern vector databases, emphasizing that the latter are optimized for unstructured data and use machine learning models for data indexing. We can also mention that vector databases are particularly good at extracting value from unstructured data. Lastly, we can use Weaviate as an example of a \"third wave\" database technology that excels at answering questions in natural language and searching through various types of data.\n",
      "\n",
      "Paragraph: The future of database management is being shaped by the emergence of AI-first database technology and vector databases. This \"third wave\" of database technology includes new search engines and databases that can answer queries posed in natural language and search anything from images to DNA. Unlike traditional relational databases, which are designed to store structured data in columns, modern vector databases are optimized for unstructured data such as text, images, or audio, and their vector embeddings. These databases use machine learning models for data indexing, making them particularly good at extracting value from unstructured data. An example of this \"third wave\" database technology is Weaviate, which processes data with a machine learning model first, and uses AI models to help in processing, storing, and searching through the data. As a result, Weaviate excels at answering questions in natural language and is adaptable to searching images or even genetic information.\u001b[0m\n",
      "\n",
      "\n",
      "\n",
      "\n",
      "\n",
      "\n",
      "\n",
      "Proofread a blog post and output a more well written version of the original post.\n",
      "\n",
      "---\n",
      "\n",
      "Follow the following format.\n",
      "\n",
      "Blog Post: ${blog_post}\n",
      "Reasoning: Let's think step by step in order to ${produce the proofread_blog_post}. We ...\n",
      "Proofread Blog Post: ${proofread_blog_post}\n",
      "\n",
      "---\n",
      "\n",
      "Blog Post: Multi-tenancy is defined as the need to serve multiple distinct users or user groups from a single application. In the context of Weaviate, a user can select multi-tenancy for their classes and specify a tenant key for every operation. This feature is opt-in, meaning if you don't require it, there are no changes for you. It is designed to be cost-efficient and capable of handling tenants of vastly different sizes. The upcoming release of Weaviate, version 1.20, will offer native multi-tenancy support that scales to millions of tenants, with tens of thousands of active tenants per node. This new feature is not just an additional feature, but a rethinking of how businesses with many customers can scale with Weaviate. Multi-tenancy is a crucial feature in modern software applications due to its numerous benefits. It allows serving multiple distinct users or user groups from a single application, which enhances efficiency and resource utilization. One of the key advantages of multi-tenancy is cost-efficiency, as it allows for optimal resource usage, especially in scenarios where usage peaks at certain times but remains idle for the rest of the time. It also supports a diverse range of tenants, from small to large, catering to their varying needs effectively. Multi-tenancy also ensures speed, as narrowing a request down to a single tenant does not require much computational effort. It facilitates easy onboarding and offboarding of tenants without affecting the performance of the system for other tenants. Moreover, it sets resource boundaries to prevent interference between different tenants' operations. Therefore, multi-tenancy is not just an additional feature, but a fundamental rethinking of how a business scales with its customers. The upcoming Weaviate v1.20 release, set for July 2023, introduces a game-changing feature: native multi-tenancy support. Multi-tenancy, defined as the ability to serve multiple distinct users or user groups from a single application, is a crucial aspect of modern software architecture. The new multi-tenancy feature in Weaviate is designed to scale to millions of tenants, with the capacity to support over 50,000 active tenants per node. This scalability is complemented by an emphasis on compliance, with features such as GDPR-compliant deletes, and a smooth user experience. If the need arises to onboard more tenants, users can simply add a new node to their existing cluster. This is a significant upgrade from previous versions of Weaviate, which required workarounds to model a multi-tenancy landscape. With the new native multi-tenancy support, Weaviate is rethinking how businesses can scale with their many customers. Multi-tenancy offers numerous benefits for businesses, particularly in terms of scalability and efficiency. One of the primary advantages is its ease of use; businesses can simply select multi-tenancy for their classes and continue using their favorite features such as super-fast queries, cross-references, and replication. Multi-tenancy also provides cost-efficiency, especially for businesses with usage peaks at certain times but remain inactive for many days of the month. This feature allows for the diversity of tenants, accommodating both large and small customers. Speed is another benefit, as narrowing a request down to a single tenant does not require much work, even with millions of tenants. Onboarding and offboarding are also made easy with multi-tenancy, ensuring that adding or removing a business does not impose a significant computational load. Furthermore, multi-tenancy ensures resource boundaries, preventing the activities of one tenant from interfering with others. In the latest version of Weaviate, multi-tenancy is an opt-in feature, allowing businesses to serve multiple distinct users or user groups from a single application. Weaviate v1.20, set to be released in July 2023, is introducing a native multi-tenancy feature that can serve multiple distinct users or user groups from a single application. This feature is designed to scale to millions of tenants, with the capacity to support tens of thousands of active tenants per node. In addition to scalability, the new multi-tenancy feature also emphasizes compliance and user experience, offering functionalities such as GDPR-compliant deletes. The multi-tenancy feature is opt-in, so users who don't require it won't be affected. Designed to scale with your business, it can support over 50,000 active tenants per node. If you run out of space but want to onboard more tenants, you can simply add a new node to your existing cluster. The Weaviate team is excited about this upcoming release and welcomes feedback from users.\n",
      "Reasoning: Let's think step by step in order to produce a more concise and coherent blog post. The original post is repetitive and contains unnecessary details. It also lacks a clear structure and flow, making it difficult for readers to follow. The proofread version will aim to eliminate repetition, provide a clear structure, and ensure a smooth flow of ideas.\n",
      "Proofread Blog Post: Multi-tenancy, defined as the ability to serve multiple distinct users or user groups from a single application, is a crucial feature in modern software applications. It enhances efficiency, optimizes resource utilization, and is cost-efficient. In the context of Weaviate, users can opt for multi-tenancy for their classes and specify a tenant key for each operation. This feature is optional, so if you don't need it, there are no changes for you. The upcoming release of Weaviate, version 1.20, set for July 2023, introduces native multi-tenancy support. This game-changing feature is designed to scale to millions of tenants, with the capacity to support over 50,000 active tenants per node. It's not just an additional feature, but a fundamental rethinking of how businesses can scale with their customers. Multi-tenancy offers numerous benefits. It allows for optimal resource usage, especially in scenarios where usage peaks at certain times but remains idle for the rest of the time. It supports a diverse range of tenants, from small to large, catering to their varying needs effectively. It also ensures speed, as narrowing a request down to a single tenant does not require much computational effort. Onboarding and offboarding of tenants are made easy with multi-tenancy, without affecting the performance of the system for other tenants. It also sets resource boundaries to prevent interference between different tenants' operations. The new multi-tenancy feature in Weaviate also emphasizes compliance, with features such as GDPR-compliant deletes, and a smooth user experience. If the need arises to onboard more tenants, users can simply add a new node to their existing cluster. In conclusion, the native multi-tenancy support in Weaviate v1.20 is a significant upgrade from previous versions, rethinking how businesses can scale with their many customers. The Weaviate team is excited about this upcoming release and welcomes feedback from users.\n",
      "\n",
      "---\n",
      "\n",
      "Blog Post: A self-driving database is defined as a vector database that stores data indexed by machine learning models. This type of database is particularly adept at extracting value from unstructured data, which includes text, photos, video, audio files, and other forms of data such as genetic information. Self-driving databases can brilliantly answer queries posed in natural language and can be used to search anything from images to DNA. Much of the software involved in these databases is open source, which means it functions transparently and users can customize it to meet their specific needs. This new wave of AI-first database technology is ushering in a new era of data management and retrieval. The evolution of database technology has seen three major waves. The first wave was dominated by SQL databases, which are conceptually similar to spreadsheets or tables and were managed by companies like Oracle and Microsoft. The second wave, known as NoSQL, marked a shift from relational tables to different data storage methods, including key-value stores, document stores, wide-column stores, and graph databases. The third and current wave is characterized by AI-first databases, such as Weaviate's vector database. These databases process data using machine learning models, enabling them to answer questions in natural language and search through various types of data, including text, images, and even genetic information. This evolution has led to more efficient and versatile databases that can handle a wide range of data types and queries. A self-driving database is characterized by key features such as consistency, resiliency, and scaling. These features are determined by the specific strategy decided upon by the engineers who built the database. One of the unique aspects of a self-driving database is its ability to answer queries posed in natural language, extending beyond text searches to include searches for images, DNA, and more. This is made possible through the use of machine learning models. Furthermore, much of the software involved in self-driving databases is open source. This transparency allows users to customize the database to meet their specific needs and retain control of their data, ensuring it remains safely behind their own firewalls. A self-driving database like Weaviate offers several benefits. As a \"third wave\" database technology, Weaviate uses AI models to process, store, and search through data. This makes it excellent at answering questions in natural language and adaptable to searching images or genetic information. Depending on the machine-learning model used, a data object in a vector database typically has anywhere from 120 to 12,800 dimensions. Unlike a traditional relational database that is designed to store structured data in columns, a vector database like Weaviate is optimized to store unstructured data and their vector embeddings. This difference in optimization leads to a difference in the way data is stored and retrieved. Furthermore, using a self-driving database like Weaviate can lead to the development of new querying languages, offering more flexibility and adaptability in data management. The future of database management is being shaped by the emergence of AI-first database technology and vector databases. This \"third wave\" of database technology includes new search engines and databases that can answer queries posed in natural language and search anything from images to DNA. Unlike traditional relational databases, which are designed to store structured data in columns, modern vector databases are optimized for unstructured data such as text, images, or audio, and their vector embeddings. These databases use machine learning models for data indexing, making them particularly good at extracting value from unstructured data. An example of this \"third wave\" database technology is Weaviate, which processes data with a machine learning model first, and uses AI models to help in processing, storing, and searching through the data. As a result, Weaviate excels at answering questions in natural language and is adaptable to searching images or even genetic information.\n",
      "Reasoning: Let's think step by step in order to\u001b[32m produce a more concise and coherent blog post. The original post is repetitive and contains unnecessary details. It also lacks a clear structure and flow, making it difficult for readers to follow. The proofread version will aim to eliminate repetition, provide a clear structure, and ensure a smooth flow of ideas.\n",
      "Proofread Blog Post: A self-driving database, such as a vector database, is a revolutionary technology that uses machine learning models to index data. This type of database excels at extracting value from unstructured data, including text, photos, video, audio files, and even genetic information. It can answer queries posed in natural language and search anything from images to DNA. Much of the software involved in these databases is open source, allowing users to customize it to meet their specific needs. This AI-first database technology is ushering in a new era of data management and retrieval. The evolution of database technology has seen three major waves. The first wave was dominated by SQL databases, managed by companies like Oracle and Microsoft. The second wave, known as NoSQL, marked a shift from relational tables to different data storage methods. The third and current wave is characterized by AI-first databases, such as Weaviate's vector database. These databases process data using machine learning models, enabling them to handle a wide range of data types and queries. Key features of a self-driving database include consistency, resiliency, and scaling. One of the unique aspects of a self-driving database is its ability to answer queries posed in natural language, extending beyond text searches to include searches for images, DNA, and more. A self-driving database like Weaviate offers several benefits. It uses AI models to process, store, and search through data, making it excellent at answering questions in natural language and adaptable to searching images or genetic information. Unlike a traditional relational database that is designed to store structured data in columns, a vector database like Weaviate is optimized to store unstructured data and their vector embeddings. This difference in optimization leads to a difference in the way data is stored and retrieved. The future of database management is being shaped by the emergence of AI-first database technology and vector databases. This \"third wave\" of database technology includes new search engines and databases that can answer queries posed in natural language and search anything from images to DNA. As a result, Weaviate excels at answering questions in natural language and is adaptable to searching images or even genetic information.\u001b[0m\n",
      "\n",
      "\n",
      "\n",
      "\n",
      "\n",
      "\n",
      "\n",
      "Write a title for a blog post given a description of the topics the blog covers as input.\n",
      "\n",
      "---\n",
      "\n",
      "Follow the following format.\n",
      "\n",
      "Blog Outline: ${blog_outline}\n",
      "Reasoning: Let's think step by step in order to ${produce the title}. We ...\n",
      "Title: ${title}\n",
      "\n",
      "---\n",
      "\n",
      "Blog Outline: Definition of Multi-Tenancy, Importance of Multi-Tenancy, New Features in Weaviate's Multi-Tenancy Support, Benefits of Using Multi-Tenancy, Future Plans for Weaviate's Multi-Tenancy Feature.\n",
      "Reasoning: Let's think step by step in order to produce the title. We need to highlight the main topic which is Multi-Tenancy, specifically in relation to Weaviate. The blog also covers the benefits, new features, and future plans of this feature. Therefore, the title should reflect these aspects.\n",
      "Title: \"Exploring Multi-Tenancy: New Features, Benefits, and Future Plans in Weaviate\"\n",
      "\n",
      "---\n",
      "\n",
      "Blog Outline: Definition of a Self-Driving Database, Evolution of Database Technology, Key Features of a Self-Driving Database, Benefits of Using a Self-Driving Database, Future of Database Management.\n",
      "Reasoning: Let's think step by step in order to\u001b[32m produce the title. The blog is about Self-Driving Databases, their evolution, key features, benefits, and future. The title should encapsulate these points and indicate that the blog will provide a comprehensive understanding of this technology.\n",
      "Title: \"The Evolution and Future of Database Management: Unpacking the Self-Driving Database\" \n",
      "\n",
      "---\n",
      "\n",
      "Blog Outline: Introduction to Veganism, Health Benefits of a Vegan Diet, Environmental Impact of Veganism, Common Myths about Veganism, Tips for Transitioning to a Vegan Lifestyle.\n",
      "Reasoning: Let's think step by step in order to produce the title. The blog covers various aspects of veganism, including its health benefits, environmental impact, and common myths. It also provides tips for transitioning to a vegan lifestyle. The title should reflect these points and indicate that the blog will provide a comprehensive guide to veganism.\n",
      "Title: \"Embracing Veganism: Health, Environment, Myths, and Transitioning Tips\"\n",
      "\n",
      "---\n",
      "\n",
      "Blog Outline: Understanding Cryptocurrency, The Rise of Bitcoin, How Blockchain Technology Works, Investing in Cryptocurrency, Future Predictions for Cryptocurrency.\n",
      "Reasoning: Let's think step by step in order to produce the title. The blog is about cryptocurrency, with a focus on Bitcoin and blockchain technology. It also covers investment in cryptocurrency and future predictions. The title should encapsulate these points and indicate that the blog will provide a comprehensive understanding of this topic.\n",
      "Title: \"Demystifying Cryptocurrency: From Bitcoin Rise to Blockchain Technology and Future Predictions\"\n",
      "\n",
      "---\n",
      "\n",
      "Blog Outline: Introduction to Artificial Intelligence, History of AI, Current Trends in AI, Impact of AI on Various Industries, Future of AI.\n",
      "Reasoning: Let's think step by step in order to produce the title. The blog is about Artificial Intelligence, its history, current trends, impact on industries, and future. The title should encapsulate these points and indicate that the blog will provide a comprehensive understanding of AI.\n",
      "Title: \"Artificial Intelligence Uncovered: History, Trends, Industry Impact, and Future Predictions\"\u001b[0m\n",
      "\n",
      "\n",
      "\n",
      "\n",
      "\n",
      "\n",
      "\n",
      "Your task is to write a blog post that will help answer the given question. \n",
      "    Please use the contexts to evaluate the structure of the blog post.\n",
      "\n",
      "---\n",
      "\n",
      "Follow the following format.\n",
      "\n",
      "Question: ${question}\n",
      "\n",
      "Contexts: ${contexts}\n",
      "\n",
      "Reasoning: Let's think step by step in order to ${produce the blog_outline}. We ...\n",
      "\n",
      "Blog Outline: A comma separated list of topics.\n",
      "\n",
      "---\n",
      "\n",
      "Question: What is multi-tenancy?\n",
      "\n",
      "Contexts: But if you have a multi-tenancy case, all you need to do is select multi-tenancy for your class (or classes). You can keep using all your favorite features, including super-fast queries, cross-references, and replication. The only change? For every operation, specify the tenant key – a user-defined property in your schema. That’s all that changes.Weaviate `v1.20` - coming in July 2023 - changes this once and for all: Native multi-tenancy support that scales to millions of tenants with 10s of thousands of active tenants per node. Yet scale is not the only point that makes the new multi-tenancy feature great; we put a lot of emphasis on compliance and a smooth UX. GDPR-compliant deletes with one command are just one of the many features. Let me walk you through what’s coming in the next Weaviate release and show you why I’m incredibly excited about this one. ## The need for multi-tenancy We define multi-tenancy as the need to serve multiple distinct users or user groups from a single application.## No more workarounds: Native multi-tenancy support for the largest of cases ![multi-tenancy](./img/multi-tenancy-dark.png#gh-dark-mode-only) ![multi-tenancy](./img/multi-tenancy-light.png#gh-light-mode-only) Let me walk you through the best parts of the native multi-tenancy feature in Weaviate `v1.20` and even some of the plans that we have for upcoming releases. As you will see, Multi-Tenancy is not just an additional feature. It is rethinking from the ground up how your business, with its many customers, scales with Weaviate. ### Ease of use of your favorite Weaviate features Weaviate’s new multi-tenancy mode is opt-in. If you don’t require it, there are no changes for you.* **Cost-efficiency**: With usage peaking around tax season but most tenants inactive for many days of the month, ACME shouldn’t have to pay for a large setup that is essentially idle most of the time. * **Diversity of tenants**: ACME has both large and small customers. Their setup needs to be able to handle tenants of vastly different sizes. While most tenants are small, a few tenants can make up a large bulk of the data. ## A time before multi-tenancy support Before Weaviate `v1.20`, you had two options to model a multi-tenancy landscape.--- title: Multi-Tenancy Vector Search with millions of tenants slug: multi-tenancy-vector-search authors: [etienne] date: 2023-06-15 image: ./img/hero.png tags: ['engineering', 'concepts'] description: \"Learn about the new native multi-tenancy feature\" --- ![Multi-Tenancy ](./img/hero.png) <!-- truncate --> Large-scale setups were always a great reason to choose Weaviate. Last year we wrote about the first time [a Weaviate setup ran with a billion objects & vectors](/blog/sphere-dataset-in-weaviate). What was a mere experiment back then is a regular production case today. But earlier this year, we saw a shift in usage patterns: As we onboarded more and more large-scale and enterprise users, the definition of scale shifted from the number of vectors to the number of individual tenants that can run on a single setup. Previously, Weaviate offered multiple ways to tackle multi-tenancy, but none were intended for a massive scale.\n",
      "\n",
      "Reasoning: Let's think step by step in order to produce the blog outline. We first need to define what multi-tenancy is and why it is important. Then, we can discuss the new features of Weaviate's multi-tenancy support and how it improves upon previous versions. We can also highlight the benefits of using multi-tenancy, such as cost-efficiency and the ability to handle a diverse range of tenants. Finally, we can discuss the future plans for Weaviate's multi-tenancy feature.\n",
      "\n",
      "Blog Outline: Definition of Multi-Tenancy, Importance of Multi-Tenancy, New Features in Weaviate's Multi-Tenancy Support, Benefits of Using Multi-Tenancy, Future Plans for Weaviate's Multi-Tenancy Feature.\n",
      "\n",
      "---\n",
      "\n",
      "Question: What is a vector database?\n",
      "\n",
      "Contexts: Then we will dive into the technical details of how distance metrics are used in vector search and how vector indexes enable efficient retrieval. Once we have a fundamental understanding of vector databases, we will discuss their use cases and the current tool landscape. ## What is a Vector Database? A vector database indexes, stores, and provides access to structured or unstructured data (e.g., text or images) alongside its vector embeddings, which are the data's numerical representation. It allows users to find and retrieve similar objects quickly at scale in production.### Vector Database vs. Traditional (Relational) Database The main difference between a traditional (relational) database and a modern vector database comes from the type of data they were optimized for. While a relational database is designed to store structured data in columns, a vector database is also optimized to store unstructured data (e.g., text, images, or audio) and their vector embeddings. Because vector databases and relational databases are optimized for different types of data, they also differ in the way data is stored and retrieved. In a relational database, data is stored in columns and retrieved by keyword matches in traditional search.Check out one of our free weekly workshops to help you understand what vector databases are and how they can help you build production-ready AI apps quickly and easily. If you’re curious, here are some of the most commonly asked questions we encountered: **What’s the difference between a vector database and a graph or relational database?** Graph databases are used to identify relationships between objects, and vector databases are used to find objects Relational databases store the relations between tables and build indexes for the fast lookup of joined tables. Vector databases, on the other hand, store the embeddings of structured and unstructured data for the quick retrieval of the objects. **What features does Weaviate offer to help me protect data privacy?** Weaviate is designed with robust security measures to ensure it meets the requirements of enterprise environments. Weaviate has achieved SOC 2 certification and is encrypted in transit and at rest.Because a vector database can help find similar objects, it is predestined for applications where you might want to find similar products, movies, books, songs, etc. That’s why vector databases are also **used in recommendation systems in classical ML applications** as a restated task of search. With the rise of LLMs, **vector databases have already been used to enhance modern LLM applications**. You might have already come across the term that vector databases provide LLMs with long-term memory. LLMs are stateless, which means that they immediately forget what you have just discussed if you don’t store this information in, e.g., a vector database and thus provide them with a state.![vector-database-definition.png](img/vector-database-definition.png) This section introduces the core concepts of vector databases. We will discuss what vector embeddings are, how they enable similarity search, and how they accelerate it. ### Vector Embeddings When you think of data, you probably think of neatly organized numbers in spreadsheets. This type of data is called structured data because it can easily be stored in tabular format. But roughly 80% of today’s data is said to be unstructured.\n",
      "\n",
      "Reasoning: Let's think step by step in order to\u001b[32m produce the blog outline. We first need to define what a vector database is and how it differs from traditional databases. Then, we can delve into the technical details of how vector databases work, including the use of distance metrics and vector indexes. We can also discuss the use cases of vector databases and how they can be used in various applications. Finally, we can answer some frequently asked questions about vector databases and discuss the security measures in place to protect data privacy.\n",
      "\n",
      "Blog Outline: Definition of a Vector Database, Differences between Vector and Traditional Databases, Technical Details of Vector Databases, Use Cases of Vector Databases, Frequently Asked Questions about Vector Databases, Security Measures in Vector Databases.\u001b[0m\n",
      "\n",
      "\n",
      "\n",
      "\n",
      "\n",
      "\n",
      "\n",
      "Your task is to write a paragraph that explains a topic based on the retrieved contexts.\n",
      "\n",
      "---\n",
      "\n",
      "Follow the following format.\n",
      "\n",
      "Topic: A topic to write a paragraph about based on the information in the contexts.\n",
      "\n",
      "Contexts: contains relevant information about the topic.\n",
      "\n",
      "Reasoning: Let's think step by step in order to ${produce the paragraph}. We ...\n",
      "\n",
      "Paragraph: ${paragraph}\n",
      "\n",
      "---\n",
      "\n",
      "Topic: Definition of Multi-Tenancy\n",
      "\n",
      "Contexts: But if you have a multi-tenancy case, all you need to do is select multi-tenancy for your class (or classes). You can keep using all your favorite features, including super-fast queries, cross-references, and replication. The only change? For every operation, specify the tenant key – a user-defined property in your schema. That’s all that changes.Weaviate `v1.20` - coming in July 2023 - changes this once and for all: Native multi-tenancy support that scales to millions of tenants with 10s of thousands of active tenants per node. Yet scale is not the only point that makes the new multi-tenancy feature great; we put a lot of emphasis on compliance and a smooth UX. GDPR-compliant deletes with one command are just one of the many features. Let me walk you through what’s coming in the next Weaviate release and show you why I’m incredibly excited about this one. ## The need for multi-tenancy We define multi-tenancy as the need to serve multiple distinct users or user groups from a single application.## No more workarounds: Native multi-tenancy support for the largest of cases ![multi-tenancy](./img/multi-tenancy-dark.png#gh-dark-mode-only) ![multi-tenancy](./img/multi-tenancy-light.png#gh-light-mode-only) Let me walk you through the best parts of the native multi-tenancy feature in Weaviate `v1.20` and even some of the plans that we have for upcoming releases. As you will see, Multi-Tenancy is not just an additional feature. It is rethinking from the ground up how your business, with its many customers, scales with Weaviate. ### Ease of use of your favorite Weaviate features Weaviate’s new multi-tenancy mode is opt-in. If you don’t require it, there are no changes for you.* **Cost-efficiency**: With usage peaking around tax season but most tenants inactive for many days of the month, ACME shouldn’t have to pay for a large setup that is essentially idle most of the time. * **Diversity of tenants**: ACME has both large and small customers. Their setup needs to be able to handle tenants of vastly different sizes. While most tenants are small, a few tenants can make up a large bulk of the data. ## A time before multi-tenancy support Before Weaviate `v1.20`, you had two options to model a multi-tenancy landscape.--- title: Multi-Tenancy Vector Search with millions of tenants slug: multi-tenancy-vector-search authors: [etienne] date: 2023-06-15 image: ./img/hero.png tags: ['engineering', 'concepts'] description: \"Learn about the new native multi-tenancy feature\" --- ![Multi-Tenancy ](./img/hero.png) <!-- truncate --> Large-scale setups were always a great reason to choose Weaviate. Last year we wrote about the first time [a Weaviate setup ran with a billion objects & vectors](/blog/sphere-dataset-in-weaviate). What was a mere experiment back then is a regular production case today. But earlier this year, we saw a shift in usage patterns: As we onboarded more and more large-scale and enterprise users, the definition of scale shifted from the number of vectors to the number of individual tenants that can run on a single setup. Previously, Weaviate offered multiple ways to tackle multi-tenancy, but none were intended for a massive scale.\n",
      "\n",
      "Reasoning: Let's think step by step in order to produce the paragraph. We need to define what multi-tenancy is, explain its importance, and how it is implemented in the context of Weaviate. We can start by defining multi-tenancy as the need to serve multiple distinct users or user groups from a single application. Then, we can explain how it is implemented in Weaviate, where users can select multi-tenancy for their classes and specify a tenant key for every operation. We can also mention that Weaviate's multi-tenancy feature is opt-in and is designed to be cost-efficient and capable of handling tenants of vastly different sizes. Lastly, we can highlight that Weaviate's upcoming release will offer native multi-tenancy support that scales to millions of tenants.\n",
      "\n",
      "Paragraph: Multi-tenancy is defined as the need to serve multiple distinct users or user groups from a single application. In the context of Weaviate, a user can select multi-tenancy for their classes and specify a tenant key for every operation. This feature is opt-in, meaning if you don't require it, there are no changes for you. It is designed to be cost-efficient and capable of handling tenants of vastly different sizes. The upcoming release of Weaviate, version 1.20, will offer native multi-tenancy support that scales to millions of tenants, with tens of thousands of active tenants per node. This new feature is not just an additional feature, but a rethinking of how businesses with many customers can scale with Weaviate.\n",
      "\n",
      "---\n",
      "\n",
      "Topic: Definition of a Vector Database\n",
      "\n",
      "Contexts: This leads to the simplest definition of a third database wave: A vector database that stores data indexed by machine learning models. Different types of databases (e.g., vector search engines) allow users to search through these vectorized datasets, and others (e.g., feature stores) allow users to store vectors at a large scale for later use. ## We're awash in unstructured data. We're living in a time of massive data accumulation and much, if not most of it, is unstructured: text, photos, video, audio files, as well as other things such as genetic information. Vector search is particularly good at extracting value from such data.### Vector Database vs. Traditional (Relational) Database The main difference between a traditional (relational) database and a modern vector database comes from the type of data they were optimized for. While a relational database is designed to store structured data in columns, a vector database is also optimized to store unstructured data (e.g., text, images, or audio) and their vector embeddings. Because vector databases and relational databases are optimized for different types of data, they also differ in the way data is stored and retrieved. In a relational database, data is stored in columns and retrieved by keyword matches in traditional search.Then we will dive into the technical details of how distance metrics are used in vector search and how vector indexes enable efficient retrieval. Once we have a fundamental understanding of vector databases, we will discuss their use cases and the current tool landscape. ## What is a Vector Database? A vector database indexes, stores, and provides access to structured or unstructured data (e.g., text or images) alongside its vector embeddings, which are the data's numerical representation. It allows users to find and retrieve similar objects quickly at scale in production.![vector-database-definition.png](img/vector-database-definition.png) This section introduces the core concepts of vector databases. We will discuss what vector embeddings are, how they enable similarity search, and how they accelerate it. ### Vector Embeddings When you think of data, you probably think of neatly organized numbers in spreadsheets. This type of data is called structured data because it can easily be stored in tabular format. But roughly 80% of today’s data is said to be unstructured.--- title: A Gentle Introduction to Vector Databases slug: what-is-a-vector-database authors: [leonie] date: 2023-08-01 image: ./img/hero.png tags: ['concepts'] description: \"Vector databases explained by their core concepts of vector embeddings, vector search, and vector indexing\" --- import Tabs from '@theme/Tabs'; import TabItem from '@theme/TabItem'; import FilteredTextBlock from '@site/src/components/Documentation/FilteredTextBlock'; import PyCode from '!!raw-loader!/_includes/code/automated-testing.py'; import TSCode from '!!raw-loader!/_includes/code/automated-testing.ts'; import { DownloadButton } from '/src/theme/Buttons'; ![A Gentle Introduction to Vector Databases](img/hero.png) If you have just recently heard the term “vector database” for the first time, you are not alone. Although vector databases have been around for a few years, they’ve just recently drawn the wider developer community’s attention. The excitement around vector databases is closely related to the release of ChatGPT. Since late 2022, the public has started to understand the capabilities of state-of-the-art large language models (LLMs), while developers have realized that vector databases can enhance these models further. This article will walk through what vector databases are and explain some of their core concepts, such as vector embeddings and vector search.\n",
      "\n",
      "Reasoning: Let's think step by step in order to\u001b[32m produce the paragraph. We need to define what a vector database is, explain its importance, and how it differs from traditional databases. We can start by defining a vector database as a database that stores data indexed by machine learning models, and is optimized to store unstructured data (e.g., text, images, or audio) and their vector embeddings. Then, we can explain how it differs from traditional databases, which are designed to store structured data in columns and retrieve data by keyword matches. Lastly, we can highlight that vector databases allow users to find and retrieve similar objects quickly at scale in production.\n",
      "\n",
      "Paragraph: A vector database is a type of database that stores data indexed by machine learning models. It is optimized to store unstructured data such as text, images, or audio, and their vector embeddings, which are the data's numerical representation. This is in contrast to traditional databases, which are designed to store structured data in columns and retrieve data by keyword matches. The main advantage of vector databases is their ability to handle unstructured data, which makes up a significant portion of today's data. They allow users to find and retrieve similar objects quickly at scale in production, making them a powerful tool for managing and extracting value from large amounts of unstructured data.\u001b[0m\n",
      "\n",
      "\n",
      "\n",
      "\n",
      "\n",
      "\n",
      "\n",
      "Your task is to write a paragraph that explains a topic based on the retrieved contexts.\n",
      "\n",
      "---\n",
      "\n",
      "Follow the following format.\n",
      "\n",
      "Topic: A topic to write a paragraph about based on the information in the contexts.\n",
      "\n",
      "Contexts: contains relevant information about the topic.\n",
      "\n",
      "Reasoning: Let's think step by step in order to ${produce the paragraph}. We ...\n",
      "\n",
      "Paragraph: ${paragraph}\n",
      "\n",
      "---\n",
      "\n",
      "Topic: Definition of Multi-Tenancy\n",
      "\n",
      "Contexts: But if you have a multi-tenancy case, all you need to do is select multi-tenancy for your class (or classes). You can keep using all your favorite features, including super-fast queries, cross-references, and replication. The only change? For every operation, specify the tenant key – a user-defined property in your schema. That’s all that changes.Weaviate `v1.20` - coming in July 2023 - changes this once and for all: Native multi-tenancy support that scales to millions of tenants with 10s of thousands of active tenants per node. Yet scale is not the only point that makes the new multi-tenancy feature great; we put a lot of emphasis on compliance and a smooth UX. GDPR-compliant deletes with one command are just one of the many features. Let me walk you through what’s coming in the next Weaviate release and show you why I’m incredibly excited about this one. ## The need for multi-tenancy We define multi-tenancy as the need to serve multiple distinct users or user groups from a single application.## No more workarounds: Native multi-tenancy support for the largest of cases ![multi-tenancy](./img/multi-tenancy-dark.png#gh-dark-mode-only) ![multi-tenancy](./img/multi-tenancy-light.png#gh-light-mode-only) Let me walk you through the best parts of the native multi-tenancy feature in Weaviate `v1.20` and even some of the plans that we have for upcoming releases. As you will see, Multi-Tenancy is not just an additional feature. It is rethinking from the ground up how your business, with its many customers, scales with Weaviate. ### Ease of use of your favorite Weaviate features Weaviate’s new multi-tenancy mode is opt-in. If you don’t require it, there are no changes for you.* **Cost-efficiency**: With usage peaking around tax season but most tenants inactive for many days of the month, ACME shouldn’t have to pay for a large setup that is essentially idle most of the time. * **Diversity of tenants**: ACME has both large and small customers. Their setup needs to be able to handle tenants of vastly different sizes. While most tenants are small, a few tenants can make up a large bulk of the data. ## A time before multi-tenancy support Before Weaviate `v1.20`, you had two options to model a multi-tenancy landscape.--- title: Multi-Tenancy Vector Search with millions of tenants slug: multi-tenancy-vector-search authors: [etienne] date: 2023-06-15 image: ./img/hero.png tags: ['engineering', 'concepts'] description: \"Learn about the new native multi-tenancy feature\" --- ![Multi-Tenancy ](./img/hero.png) <!-- truncate --> Large-scale setups were always a great reason to choose Weaviate. Last year we wrote about the first time [a Weaviate setup ran with a billion objects & vectors](/blog/sphere-dataset-in-weaviate). What was a mere experiment back then is a regular production case today. But earlier this year, we saw a shift in usage patterns: As we onboarded more and more large-scale and enterprise users, the definition of scale shifted from the number of vectors to the number of individual tenants that can run on a single setup. Previously, Weaviate offered multiple ways to tackle multi-tenancy, but none were intended for a massive scale.\n",
      "\n",
      "Reasoning: Let's think step by step in order to produce the paragraph. We need to define what multi-tenancy is, explain its importance, and how it is implemented in the context of Weaviate. We can start by defining multi-tenancy as the need to serve multiple distinct users or user groups from a single application. Then, we can explain how it is implemented in Weaviate, where users can select multi-tenancy for their classes and specify a tenant key for every operation. We can also mention that Weaviate's multi-tenancy feature is opt-in and is designed to be cost-efficient and capable of handling tenants of vastly different sizes. Lastly, we can highlight that Weaviate's upcoming release will offer native multi-tenancy support that scales to millions of tenants.\n",
      "\n",
      "Paragraph: Multi-tenancy is defined as the need to serve multiple distinct users or user groups from a single application. In the context of Weaviate, a user can select multi-tenancy for their classes and specify a tenant key for every operation. This feature is opt-in, meaning if you don't require it, there are no changes for you. It is designed to be cost-efficient and capable of handling tenants of vastly different sizes. The upcoming release of Weaviate, version 1.20, will offer native multi-tenancy support that scales to millions of tenants, with tens of thousands of active tenants per node. This new feature is not just an additional feature, but a rethinking of how businesses with many customers can scale with Weaviate.\n",
      "\n",
      "---\n",
      "\n",
      "Topic: Differences between Vector and Traditional Databases\n",
      "\n",
      "Contexts: ### Vector Database vs. Traditional (Relational) Database The main difference between a traditional (relational) database and a modern vector database comes from the type of data they were optimized for. While a relational database is designed to store structured data in columns, a vector database is also optimized to store unstructured data (e.g., text, images, or audio) and their vector embeddings. Because vector databases and relational databases are optimized for different types of data, they also differ in the way data is stored and retrieved. In a relational database, data is stored in columns and retrieved by keyword matches in traditional search.vector search](img/Traditional_Search_X_Vector_Search.jpg) Because most vector databases do not only store vector embeddings but store them together with the original source data, they are not only capable of vector search but also enable traditional keyword search. Some vector databases like [Weaviate](http://weaviate.io) even support hybrid search capabilities which combine vector search with keyword search. ### Vector Database vs. Vector-Capable Database (SQL and NoSQL) Today many existing databases have already enabled vector support and vector search. However, they usually don’t index the vector embeddings, which makes the vector search slow.In contrast, vector databases also store the vector embeddings of the original data, which enables efficient semantic search. For example, imagine you have a database that stores Jeopardy questions, and you want to retrieve all questions that contain an animal. Because traditional search relies on keyword matches, you would have to create a big query that queries all animals (e.g., contains \"dog\", or contains \"cat\", or contains \"wolf\", etc.). With semantic search, you could simply query for the concept of \"animals\". ![Traditional search vs.Thus, an advantage of AI-native vector databases over vector-capable databases is their efficiency in vector search due to vector indexing. ### Vector Database vs. Vector Indexing Library Similarly to vector databases, [vector libraries](https://weaviate.io/blog/vector-library-vs-vector-database) also enable fast vector search. However, vector libraries only store vector embeddings of data objects, and they store them in in-memory indexes. This results in two key differences: 1.Check out one of our free weekly workshops to help you understand what vector databases are and how they can help you build production-ready AI apps quickly and easily. If you’re curious, here are some of the most commonly asked questions we encountered: **What’s the difference between a vector database and a graph or relational database?** Graph databases are used to identify relationships between objects, and vector databases are used to find objects Relational databases store the relations between tables and build indexes for the fast lookup of joined tables. Vector databases, on the other hand, store the embeddings of structured and unstructured data for the quick retrieval of the objects. **What features does Weaviate offer to help me protect data privacy?** Weaviate is designed with robust security measures to ensure it meets the requirements of enterprise environments. Weaviate has achieved SOC 2 certification and is encrypted in transit and at rest.\n",
      "\n",
      "Reasoning: Let's think step by step in order to\u001b[32m produce the paragraph. We need to explain the differences between vector and traditional databases, focusing on the type of data they are optimized for, how data is stored and retrieved, and their search capabilities. We can start by explaining that while traditional databases are designed to store structured data in columns, vector databases are optimized to store both structured and unstructured data, including their vector embeddings. We can then explain that data in traditional databases is retrieved by keyword matches, while vector databases enable both traditional keyword search and vector search. We can also mention that vector databases are more efficient in vector search due to vector indexing. Lastly, we can highlight that unlike vector libraries that only store vector embeddings, vector databases store the embeddings of both structured and unstructured data for quick retrieval.\n",
      "\n",
      "Paragraph: The main difference between traditional databases and vector databases lies in the type of data they are optimized for and how data is stored and retrieved. Traditional databases are designed to store structured data in columns and retrieve data through keyword matches. On the other hand, vector databases are optimized to store both structured and unstructured data, including their vector embeddings. This allows vector databases to enable both traditional keyword search and vector search. Furthermore, vector databases are more efficient in vector search due to vector indexing, unlike vector-capable databases that don't index the vector embeddings. Unlike vector libraries that only store vector embeddings, vector databases store the embeddings of both structured and unstructured data, allowing for quick retrieval of objects.\u001b[0m\n",
      "\n",
      "\n",
      "\n",
      "\n",
      "\n",
      "\n",
      "\n",
      "Your task is to write a paragraph that explains a topic based on the retrieved contexts.\n",
      "\n",
      "---\n",
      "\n",
      "Follow the following format.\n",
      "\n",
      "Topic: A topic to write a paragraph about based on the information in the contexts.\n",
      "\n",
      "Contexts: contains relevant information about the topic.\n",
      "\n",
      "Reasoning: Let's think step by step in order to ${produce the paragraph}. We ...\n",
      "\n",
      "Paragraph: ${paragraph}\n",
      "\n",
      "---\n",
      "\n",
      "Topic: Definition of Multi-Tenancy\n",
      "\n",
      "Contexts: But if you have a multi-tenancy case, all you need to do is select multi-tenancy for your class (or classes). You can keep using all your favorite features, including super-fast queries, cross-references, and replication. The only change? For every operation, specify the tenant key – a user-defined property in your schema. That’s all that changes.Weaviate `v1.20` - coming in July 2023 - changes this once and for all: Native multi-tenancy support that scales to millions of tenants with 10s of thousands of active tenants per node. Yet scale is not the only point that makes the new multi-tenancy feature great; we put a lot of emphasis on compliance and a smooth UX. GDPR-compliant deletes with one command are just one of the many features. Let me walk you through what’s coming in the next Weaviate release and show you why I’m incredibly excited about this one. ## The need for multi-tenancy We define multi-tenancy as the need to serve multiple distinct users or user groups from a single application.## No more workarounds: Native multi-tenancy support for the largest of cases ![multi-tenancy](./img/multi-tenancy-dark.png#gh-dark-mode-only) ![multi-tenancy](./img/multi-tenancy-light.png#gh-light-mode-only) Let me walk you through the best parts of the native multi-tenancy feature in Weaviate `v1.20` and even some of the plans that we have for upcoming releases. As you will see, Multi-Tenancy is not just an additional feature. It is rethinking from the ground up how your business, with its many customers, scales with Weaviate. ### Ease of use of your favorite Weaviate features Weaviate’s new multi-tenancy mode is opt-in. If you don’t require it, there are no changes for you.* **Cost-efficiency**: With usage peaking around tax season but most tenants inactive for many days of the month, ACME shouldn’t have to pay for a large setup that is essentially idle most of the time. * **Diversity of tenants**: ACME has both large and small customers. Their setup needs to be able to handle tenants of vastly different sizes. While most tenants are small, a few tenants can make up a large bulk of the data. ## A time before multi-tenancy support Before Weaviate `v1.20`, you had two options to model a multi-tenancy landscape.--- title: Multi-Tenancy Vector Search with millions of tenants slug: multi-tenancy-vector-search authors: [etienne] date: 2023-06-15 image: ./img/hero.png tags: ['engineering', 'concepts'] description: \"Learn about the new native multi-tenancy feature\" --- ![Multi-Tenancy ](./img/hero.png) <!-- truncate --> Large-scale setups were always a great reason to choose Weaviate. Last year we wrote about the first time [a Weaviate setup ran with a billion objects & vectors](/blog/sphere-dataset-in-weaviate). What was a mere experiment back then is a regular production case today. But earlier this year, we saw a shift in usage patterns: As we onboarded more and more large-scale and enterprise users, the definition of scale shifted from the number of vectors to the number of individual tenants that can run on a single setup. Previously, Weaviate offered multiple ways to tackle multi-tenancy, but none were intended for a massive scale.\n",
      "\n",
      "Reasoning: Let's think step by step in order to produce the paragraph. We need to define what multi-tenancy is, explain its importance, and how it is implemented in the context of Weaviate. We can start by defining multi-tenancy as the need to serve multiple distinct users or user groups from a single application. Then, we can explain how it is implemented in Weaviate, where users can select multi-tenancy for their classes and specify a tenant key for every operation. We can also mention that Weaviate's multi-tenancy feature is opt-in and is designed to be cost-efficient and capable of handling tenants of vastly different sizes. Lastly, we can highlight that Weaviate's upcoming release will offer native multi-tenancy support that scales to millions of tenants.\n",
      "\n",
      "Paragraph: Multi-tenancy is defined as the need to serve multiple distinct users or user groups from a single application. In the context of Weaviate, a user can select multi-tenancy for their classes and specify a tenant key for every operation. This feature is opt-in, meaning if you don't require it, there are no changes for you. It is designed to be cost-efficient and capable of handling tenants of vastly different sizes. The upcoming release of Weaviate, version 1.20, will offer native multi-tenancy support that scales to millions of tenants, with tens of thousands of active tenants per node. This new feature is not just an additional feature, but a rethinking of how businesses with many customers can scale with Weaviate.\n",
      "\n",
      "---\n",
      "\n",
      "Topic: Technical Details of Vector Databases\n",
      "\n",
      "Contexts: Then we will dive into the technical details of how distance metrics are used in vector search and how vector indexes enable efficient retrieval. Once we have a fundamental understanding of vector databases, we will discuss their use cases and the current tool landscape. ## What is a Vector Database? A vector database indexes, stores, and provides access to structured or unstructured data (e.g., text or images) alongside its vector embeddings, which are the data's numerical representation. It allows users to find and retrieve similar objects quickly at scale in production.### Vector Database vs. Traditional (Relational) Database The main difference between a traditional (relational) database and a modern vector database comes from the type of data they were optimized for. While a relational database is designed to store structured data in columns, a vector database is also optimized to store unstructured data (e.g., text, images, or audio) and their vector embeddings. Because vector databases and relational databases are optimized for different types of data, they also differ in the way data is stored and retrieved. In a relational database, data is stored in columns and retrieved by keyword matches in traditional search.### Example Use Cases Vector libraries are commonly used for applications that do not have changing data. For example, academic information retrieval benchmarks are designed to test performance on a **static snapshot** of data. When plugging an ANN index into production-ready applications, databases offer many appealing features not found in a library. <img src={require('./img/vector-library-vs-database.png').default} alt=\"alt\" style={{ maxWidth: \"75%\" }} /> ## Vector Databases One of the core features that set vector databases apart from libraries is the ability to store and update your data. Vector databases have full **CRUD** (create, read, update, and delete) support that solves the limitations of a vector library.Check out one of our free weekly workshops to help you understand what vector databases are and how they can help you build production-ready AI apps quickly and easily. If you’re curious, here are some of the most commonly asked questions we encountered: **What’s the difference between a vector database and a graph or relational database?** Graph databases are used to identify relationships between objects, and vector databases are used to find objects Relational databases store the relations between tables and build indexes for the fast lookup of joined tables. Vector databases, on the other hand, store the embeddings of structured and unstructured data for the quick retrieval of the objects. **What features does Weaviate offer to help me protect data privacy?** Weaviate is designed with robust security measures to ensure it meets the requirements of enterprise environments. Weaviate has achieved SOC 2 certification and is encrypted in transit and at rest.--- title: A Gentle Introduction to Vector Databases slug: what-is-a-vector-database authors: [leonie] date: 2023-08-01 image: ./img/hero.png tags: ['concepts'] description: \"Vector databases explained by their core concepts of vector embeddings, vector search, and vector indexing\" --- import Tabs from '@theme/Tabs'; import TabItem from '@theme/TabItem'; import FilteredTextBlock from '@site/src/components/Documentation/FilteredTextBlock'; import PyCode from '!!raw-loader!/_includes/code/automated-testing.py'; import TSCode from '!!raw-loader!/_includes/code/automated-testing.ts'; import { DownloadButton } from '/src/theme/Buttons'; ![A Gentle Introduction to Vector Databases](img/hero.png) If you have just recently heard the term “vector database” for the first time, you are not alone. Although vector databases have been around for a few years, they’ve just recently drawn the wider developer community’s attention. The excitement around vector databases is closely related to the release of ChatGPT. Since late 2022, the public has started to understand the capabilities of state-of-the-art large language models (LLMs), while developers have realized that vector databases can enhance these models further. This article will walk through what vector databases are and explain some of their core concepts, such as vector embeddings and vector search.\n",
      "\n",
      "Reasoning: Let's think step by step in order to\u001b[32m produce the paragraph. We need to define what a vector database is, explain how it differs from traditional databases, and discuss its use cases. We can start by defining a vector database as a system that indexes, stores, and provides access to structured or unstructured data alongside its vector embeddings. Then, we can explain how it differs from traditional databases, which are optimized for structured data and use keyword matches for retrieval, while vector databases are optimized for unstructured data and use vector embeddings for retrieval. We can also mention that vector databases have full CRUD support, which sets them apart from vector libraries. Lastly, we can highlight some use cases of vector databases, such as applications that do not have changing data.\n",
      "\n",
      "Paragraph: A vector database is a system that indexes, stores, and provides access to structured or unstructured data, such as text or images, alongside its vector embeddings, which are the numerical representations of the data. This allows users to find and retrieve similar objects quickly at scale in production. Unlike traditional databases, which are designed to store structured data in columns and retrieve data by keyword matches, vector databases are optimized to store unstructured data and their vector embeddings, and retrieve data based on these embeddings. One of the core features that set vector databases apart from vector libraries is their full CRUD (create, read, update, and delete) support. Vector databases are commonly used for applications that do not have changing data, such as academic information retrieval benchmarks designed to test performance on a static snapshot of data.\u001b[0m\n",
      "\n",
      "\n",
      "\n",
      "\n",
      "\n",
      "\n",
      "\n",
      "Your task is to write a paragraph that explains a topic based on the retrieved contexts.\n",
      "\n",
      "---\n",
      "\n",
      "Follow the following format.\n",
      "\n",
      "Topic: A topic to write a paragraph about based on the information in the contexts.\n",
      "\n",
      "Contexts: contains relevant information about the topic.\n",
      "\n",
      "Reasoning: Let's think step by step in order to ${produce the paragraph}. We ...\n",
      "\n",
      "Paragraph: ${paragraph}\n",
      "\n",
      "---\n",
      "\n",
      "Topic: Definition of Multi-Tenancy\n",
      "\n",
      "Contexts: But if you have a multi-tenancy case, all you need to do is select multi-tenancy for your class (or classes). You can keep using all your favorite features, including super-fast queries, cross-references, and replication. The only change? For every operation, specify the tenant key – a user-defined property in your schema. That’s all that changes.Weaviate `v1.20` - coming in July 2023 - changes this once and for all: Native multi-tenancy support that scales to millions of tenants with 10s of thousands of active tenants per node. Yet scale is not the only point that makes the new multi-tenancy feature great; we put a lot of emphasis on compliance and a smooth UX. GDPR-compliant deletes with one command are just one of the many features. Let me walk you through what’s coming in the next Weaviate release and show you why I’m incredibly excited about this one. ## The need for multi-tenancy We define multi-tenancy as the need to serve multiple distinct users or user groups from a single application.## No more workarounds: Native multi-tenancy support for the largest of cases ![multi-tenancy](./img/multi-tenancy-dark.png#gh-dark-mode-only) ![multi-tenancy](./img/multi-tenancy-light.png#gh-light-mode-only) Let me walk you through the best parts of the native multi-tenancy feature in Weaviate `v1.20` and even some of the plans that we have for upcoming releases. As you will see, Multi-Tenancy is not just an additional feature. It is rethinking from the ground up how your business, with its many customers, scales with Weaviate. ### Ease of use of your favorite Weaviate features Weaviate’s new multi-tenancy mode is opt-in. If you don’t require it, there are no changes for you.* **Cost-efficiency**: With usage peaking around tax season but most tenants inactive for many days of the month, ACME shouldn’t have to pay for a large setup that is essentially idle most of the time. * **Diversity of tenants**: ACME has both large and small customers. Their setup needs to be able to handle tenants of vastly different sizes. While most tenants are small, a few tenants can make up a large bulk of the data. ## A time before multi-tenancy support Before Weaviate `v1.20`, you had two options to model a multi-tenancy landscape.--- title: Multi-Tenancy Vector Search with millions of tenants slug: multi-tenancy-vector-search authors: [etienne] date: 2023-06-15 image: ./img/hero.png tags: ['engineering', 'concepts'] description: \"Learn about the new native multi-tenancy feature\" --- ![Multi-Tenancy ](./img/hero.png) <!-- truncate --> Large-scale setups were always a great reason to choose Weaviate. Last year we wrote about the first time [a Weaviate setup ran with a billion objects & vectors](/blog/sphere-dataset-in-weaviate). What was a mere experiment back then is a regular production case today. But earlier this year, we saw a shift in usage patterns: As we onboarded more and more large-scale and enterprise users, the definition of scale shifted from the number of vectors to the number of individual tenants that can run on a single setup. Previously, Weaviate offered multiple ways to tackle multi-tenancy, but none were intended for a massive scale.\n",
      "\n",
      "Reasoning: Let's think step by step in order to produce the paragraph. We need to define what multi-tenancy is, explain its importance, and how it is implemented in the context of Weaviate. We can start by defining multi-tenancy as the need to serve multiple distinct users or user groups from a single application. Then, we can explain how it is implemented in Weaviate, where users can select multi-tenancy for their classes and specify a tenant key for every operation. We can also mention that Weaviate's multi-tenancy feature is opt-in and is designed to be cost-efficient and capable of handling tenants of vastly different sizes. Lastly, we can highlight that Weaviate's upcoming release will offer native multi-tenancy support that scales to millions of tenants.\n",
      "\n",
      "Paragraph: Multi-tenancy is defined as the need to serve multiple distinct users or user groups from a single application. In the context of Weaviate, a user can select multi-tenancy for their classes and specify a tenant key for every operation. This feature is opt-in, meaning if you don't require it, there are no changes for you. It is designed to be cost-efficient and capable of handling tenants of vastly different sizes. The upcoming release of Weaviate, version 1.20, will offer native multi-tenancy support that scales to millions of tenants, with tens of thousands of active tenants per node. This new feature is not just an additional feature, but a rethinking of how businesses with many customers can scale with Weaviate.\n",
      "\n",
      "---\n",
      "\n",
      "Topic: Use Cases of Vector Databases\n",
      "\n",
      "Contexts: ### Example Use Cases Vector libraries are commonly used for applications that do not have changing data. For example, academic information retrieval benchmarks are designed to test performance on a **static snapshot** of data. When plugging an ANN index into production-ready applications, databases offer many appealing features not found in a library. <img src={require('./img/vector-library-vs-database.png').default} alt=\"alt\" style={{ maxWidth: \"75%\" }} /> ## Vector Databases One of the core features that set vector databases apart from libraries is the ability to store and update your data. Vector databases have full **CRUD** (create, read, update, and delete) support that solves the limitations of a vector library.Then we will dive into the technical details of how distance metrics are used in vector search and how vector indexes enable efficient retrieval. Once we have a fundamental understanding of vector databases, we will discuss their use cases and the current tool landscape. ## What is a Vector Database? A vector database indexes, stores, and provides access to structured or unstructured data (e.g., text or images) alongside its vector embeddings, which are the data's numerical representation. It allows users to find and retrieve similar objects quickly at scale in production.This enables LLMs to hold an actual conversation. Also, you can store the domain-specific context in a vector database to minimize the LLM from hallucinating. Other popular examples of vector databases improving the capabilities of LLMs are question-answering and retrieval-augmented generation. Here is an example [demo](https://github.com/weaviate/healthsearch-demo) called [HealthSearch](https://weaviate.io/blog/healthsearch-demo) of a [Weaviate](http://weaviate.io) vector database in action together with an LLM showcasing the potential of leveraging user-written reviews and queries to retrieve supplement products based on specific health effects. ![example-use-case-llm-vector-database](../2023-07-26-healthsearch-blogpost/img/hero.png) ## Tool Landscape around Vector Databases Although vector databases are AI-native and specifically designed to handle vector embeddings and enable efficient vector search, alternatives like [vector libraries](https://weaviate.io/blog/vector-library-vs-vector-database) and vector-capable databases exist as well.Because a vector database can help find similar objects, it is predestined for applications where you might want to find similar products, movies, books, songs, etc. That’s why vector databases are also **used in recommendation systems in classical ML applications** as a restated task of search. With the rise of LLMs, **vector databases have already been used to enhance modern LLM applications**. You might have already come across the term that vector databases provide LLMs with long-term memory. LLMs are stateless, which means that they immediately forget what you have just discussed if you don’t store this information in, e.g., a vector database and thus provide them with a state.Then the algorithm would also prevent you from venturing further from relevant results, as the objects are pre-organized by similarity. ![Vector indexing for Approximate Nearest Neighbor](img/vector-indexing.jpg) The above example roughly describes the concept of the [Hierarchical Navigable Small World (HNSW)](https://arxiv.org/abs/1603.09320) algorithm, which is the default ANN algorithm in [Weaviate](http://weaviate.io). However, there are several ANN algorithms to index the vectors, which can be categorized into the following groups: - **Clustering**-based index (e.g., [FAISS](https://github.com/facebookresearch/faiss)) - **Proximity graph**-based index (e.g., [HNSW](https://arxiv.org/abs/1603.09320)) - **Tree**-based index (e.g., [ANNOY](https://github.com/spotify/annoy)) - **Hash**-based index (e.g., [LSH](https://en.wikipedia.org/wiki/Locality-sensitive_hashing)) - **Compression**-based index (e.g., [PQ](https://ieeexplore.ieee.org/document/5432202) or [SCANN](https://ai.googleblog.com/2020/07/announcing-scann-efficient-vector.html)) Note that indexing enables fast retrieval at query time, but it can take a lot of time to build the index initially. Further reading [Why Is Vector Search So Fast?](https://weaviate.io/blog/why-is-vector-search-so-fast) ## Use Cases of Vector Databases Vector databases’ search capabilities can be used in various applications ranging from classical ML use cases, such as recommender systems, to providing long-term memory to large language models in modern applications. The **most popular use case of vector databases is for search**.\n",
      "\n",
      "Reasoning: Let's think step by step in order to\u001b[32m produce the paragraph. We need to explain what vector databases are, their features, and their use cases. We can start by defining a vector database as a tool that indexes, stores, and provides access to structured or unstructured data alongside its vector embeddings. Then, we can highlight the features of vector databases, such as full CRUD support and the ability to store and update data. We can then discuss the use cases of vector databases, including their use in applications that require finding similar objects, such as recommendation systems, and their role in enhancing the capabilities of large language models by providing them with long-term memory.\n",
      "\n",
      "Paragraph: A vector database is a tool that indexes, stores, and provides access to structured or unstructured data, along with its vector embeddings, which are numerical representations of the data. One of the key features that set vector databases apart from libraries is their ability to store and update data, offering full CRUD (create, read, update, and delete) support. Vector databases are commonly used in applications that require finding similar objects quickly at scale in production. For instance, they are used in recommendation systems in classical machine learning applications to find similar products, movies, books, songs, etc. Moreover, vector databases have been used to enhance the capabilities of large language models by providing them with long-term memory, as these models are stateless and immediately forget information unless it is stored in a vector database.\u001b[0m\n",
      "\n",
      "\n",
      "\n"
     ]
    }
   ],
   "source": [
    "gpt4.inspect_history(n=10)"
   ]
  },
  {
   "cell_type": "markdown",
   "id": "110ebd1c",
   "metadata": {},
   "source": [
    "## Evaluate Compiled"
   ]
  },
  {
   "cell_type": "code",
   "execution_count": 37,
   "id": "b26914a0",
   "metadata": {},
   "outputs": [
    {
     "name": "stderr",
     "output_type": "stream",
     "text": [
      "\n",
      "  0%|                                                     | 0/5 [00:00<?, ?it/s]\u001b[A\n",
      "Average Metric: 4.5 / 1  (450.0):   0%|                   | 0/5 [00:39<?, ?it/s]\u001b[A\n",
      "Average Metric: 4.5 / 1  (450.0):  20%|██▏        | 1/5 [00:39<02:36, 39.09s/it]\u001b[A\n",
      "Average Metric: 9.0 / 2  (450.0):  20%|██▏        | 1/5 [01:51<02:36, 39.09s/it]\u001b[A\n",
      "Average Metric: 9.0 / 2  (450.0):  40%|████▍      | 2/5 [01:51<02:55, 58.55s/it]\u001b[A\n",
      "Average Metric: 13.5 / 3  (450.0):  40%|████      | 2/5 [03:02<02:55, 58.55s/it]\u001b[A\n",
      "Average Metric: 13.5 / 3  (450.0):  60%|██████    | 3/5 [03:02<02:08, 64.49s/it]\u001b[A\n",
      "Average Metric: 18.0 / 4  (450.0):  60%|██████    | 3/5 [04:29<02:08, 64.49s/it]\u001b[A\n",
      "Average Metric: 18.0 / 4  (450.0):  80%|████████  | 4/5 [04:29<01:13, 73.29s/it]\u001b[A\n",
      "Average Metric: 22.5 / 5  (450.0):  80%|████████  | 4/5 [06:00<01:13, 73.29s/it]\u001b[A\n",
      "Average Metric: 22.5 / 5  (450.0): 100%|██████████| 5/5 [06:00<00:00, 72.12s/it]\u001b[A"
     ]
    },
    {
     "name": "stdout",
     "output_type": "stream",
     "text": [
      "Average Metric: 22.5 / 5  (450.0%)\n"
     ]
    },
    {
     "name": "stderr",
     "output_type": "stream",
     "text": [
      "\n"
     ]
    },
    {
     "data": {
      "text/html": [
       "<style type=\"text/css\">\n",
       "#T_9da89 th {\n",
       "  text-align: left;\n",
       "}\n",
       "#T_9da89 td {\n",
       "  text-align: left;\n",
       "}\n",
       "#T_9da89_row0_col0, #T_9da89_row0_col1, #T_9da89_row0_col2, #T_9da89_row1_col0, #T_9da89_row1_col1, #T_9da89_row1_col2, #T_9da89_row2_col0, #T_9da89_row2_col1, #T_9da89_row2_col2, #T_9da89_row3_col0, #T_9da89_row3_col1, #T_9da89_row3_col2, #T_9da89_row4_col0, #T_9da89_row4_col1, #T_9da89_row4_col2 {\n",
       "  text-align: left;\n",
       "  white-space: pre-wrap;\n",
       "  word-wrap: break-word;\n",
       "  max-width: 400px;\n",
       "}\n",
       "</style>\n",
       "<table id=\"T_9da89\">\n",
       "  <thead>\n",
       "    <tr>\n",
       "      <th class=\"blank level0\" >&nbsp;</th>\n",
       "      <th id=\"T_9da89_level0_col0\" class=\"col_heading level0 col0\" >question</th>\n",
       "      <th id=\"T_9da89_level0_col1\" class=\"col_heading level0 col1\" >blog</th>\n",
       "      <th id=\"T_9da89_level0_col2\" class=\"col_heading level0 col2\" >MetricWrapper</th>\n",
       "    </tr>\n",
       "  </thead>\n",
       "  <tbody>\n",
       "    <tr>\n",
       "      <th id=\"T_9da89_level0_row0\" class=\"row_heading level0 row0\" >0</th>\n",
       "      <td id=\"T_9da89_row0_col0\" class=\"data row0 col0\" >What is a vector database?</td>\n",
       "      <td id=\"T_9da89_row0_col1\" class=\"data row0 col1\" >\"Understanding Vector Databases: Technical Details, Use Cases, and Security Measures\" A vector database is a type of database that stores data indexed by machine learning...</td>\n",
       "      <td id=\"T_9da89_row0_col2\" class=\"data row0 col2\" >4.5</td>\n",
       "    </tr>\n",
       "    <tr>\n",
       "      <th id=\"T_9da89_level0_row1\" class=\"row_heading level0 row1\" >1</th>\n",
       "      <td id=\"T_9da89_row1_col0\" class=\"data row1 col0\" >What is HNSW?</td>\n",
       "      <td id=\"T_9da89_row1_col1\" class=\"data row1 col1\" >\"Understanding HNSW: Key Features, Comparison with Vamana, and Weaviate's Custom Implementation\" Hierarchical Navigable Small World (HNSW) is a type of vector index that supports querying...</td>\n",
       "      <td id=\"T_9da89_row1_col2\" class=\"data row1 col2\" >4.5</td>\n",
       "    </tr>\n",
       "    <tr>\n",
       "      <th id=\"T_9da89_level0_row2\" class=\"row_heading level0 row2\" >2</th>\n",
       "      <td id=\"T_9da89_row2_col0\" class=\"data row2 col0\" >What can I build with Cohere and Weaviate?</td>\n",
       "      <td id=\"T_9da89_row2_col1\" class=\"data row2 col1\" >\"Getting Started with Cohere and Weaviate: An Introduction to the text2vec-cohere Module and Project Examples\" --- Blog Outline: Introduction to Weaviate, Explanation of Weaviate's GraphQL...</td>\n",
       "      <td id=\"T_9da89_row2_col2\" class=\"data row2 col2\" >4.5</td>\n",
       "    </tr>\n",
       "    <tr>\n",
       "      <th id=\"T_9da89_level0_row3\" class=\"row_heading level0 row3\" >3</th>\n",
       "      <td id=\"T_9da89_row3_col0\" class=\"data row3 col0\" >What is a race condition in database systems?</td>\n",
       "      <td id=\"T_9da89_row3_col1\" class=\"data row3 col1\" >\"Understanding Databases: From Race Conditions and Lock Striping to Persistence and Resiliency\" A race condition is a situation in programming where the sequence of events...</td>\n",
       "      <td id=\"T_9da89_row3_col2\" class=\"data row3 col2\" >4.5</td>\n",
       "    </tr>\n",
       "    <tr>\n",
       "      <th id=\"T_9da89_level0_row4\" class=\"row_heading level0 row4\" >4</th>\n",
       "      <td id=\"T_9da89_row4_col0\" class=\"data row4 col0\" >How do inverted indexes work?</td>\n",
       "      <td id=\"T_9da89_row4_col1\" class=\"data row4 col1\" >\"Inverted Indexes: Functioning, Role in Filtering, and Comparison with Bitmap Indexes\" An inverted index is a type of database index that is primarily used to...</td>\n",
       "      <td id=\"T_9da89_row4_col2\" class=\"data row4 col2\" >4.5</td>\n",
       "    </tr>\n",
       "  </tbody>\n",
       "</table>\n"
      ],
      "text/plain": [
       "<pandas.io.formats.style.Styler at 0x15ed520d0>"
      ]
     },
     "metadata": {},
     "output_type": "display_data"
    },
    {
     "data": {
      "text/plain": [
       "450.0"
      ]
     },
     "execution_count": 37,
     "metadata": {},
     "output_type": "execute_result"
    }
   ],
   "source": [
    "evaluate(compiled_blog_writer, metric=MetricWrapper)"
   ]
  },
  {
   "cell_type": "code",
   "execution_count": null,
   "id": "16470590",
   "metadata": {},
   "outputs": [],
   "source": []
  }
 ],
 "metadata": {
  "kernelspec": {
   "display_name": "Python 3 (ipykernel)",
   "language": "python",
   "name": "python3"
  },
  "language_info": {
   "codemirror_mode": {
    "name": "ipython",
    "version": 3
   },
   "file_extension": ".py",
   "mimetype": "text/x-python",
   "name": "python",
   "nbconvert_exporter": "python",
   "pygments_lexer": "ipython3",
   "version": "3.11.3"
  }
 },
 "nbformat": 4,
 "nbformat_minor": 5
}
